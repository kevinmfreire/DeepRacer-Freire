{
 "cells": [
  {
   "cell_type": "code",
   "execution_count": null,
   "metadata": {},
   "outputs": [],
   "source": []
  },
  {
   "cell_type": "markdown",
   "metadata": {},
   "source": [
    "### Run these command if you wish to modify the SageMaker and Robomaker code\n",
    "<span style=\"color:red\">Note: Make sure you have atleast 25 GB of space when you are planning to modify the Sagemaker and Robomaker code</span>\n",
    "<span>This is needed For this notebook because we have done lots of modification to run PPO Continuous algoirthm and to use our own custom architecture.</span>\n",
    "### Free Up Space For Docker\n",
    "<span> This is important when we build the custom Sagemaker Docker.</span>\n",
    "<div>\n",
    "<span>before you run this you will also need ot free some memory from root directory / , because the partition /dev/xvda1/ that AWS provides is limited in memory and we require at least 15 GB there.  A simple way to free it up is to do 'mv /usr/local/cuda-10.1 ~/Sagemaker/ ' and create a symbolic link 'ln -s ~/Sagemaker/cuda-10.1 /usr/local/cuda-10.1 '. </span> \n",
    "    </div>\n",
    "\n"
   ]
  },
  {
   "cell_type": "code",
   "execution_count": null,
   "metadata": {},
   "outputs": [],
   "source": [
    "# #\n",
    "# # Run these commands only for the first time\n",
    "# #\n",
    "# # Clean the build directory if present\n",
    "# !python3 sim_app_bundler.py --clean\n",
    "\n",
    "# # Download Robomaker simApp from the deepracer public s3 bucket\n",
    "# simulation_application_bundle_location = \"s3://deepracer-managed-resources-us-east-1/deepracer-simapp.tar.gz\"\n",
    "# !aws s3 cp {simulation_application_bundle_location} ./\n",
    "\n",
    "# # Untar the simapp bundle\n",
    "# !python3 sim_app_bundler.py --untar ./deepracer-simapp.tar.gz\n",
    "\n",
    "# # Now modify the simapp(Robomaker) from build directory and run this command.\n",
    "\n",
    "# # Most of the simapp files can be found here (Robomaker changes). You can modify them in these locations\n",
    "# # bundle/opt/install/sagemaker_rl_agent/lib/python3.5/site-packages/\n",
    "# # bundle/opt/install/deepracer_simulation_environment/share/deepracer_simulation_environment/\n",
    "# # bundle/opt/install/deepracer_simulation_environment/lib/deepracer_simulation_environment/\n",
    "\n",
    "# # # Copying the notebook src/markov changes to the simapp (For sagemaker container)\n",
    "# !rsync -av ./src/markov/ ./build/simapp/bundle/opt/install/sagemaker_rl_agent/lib/python3.5/site-packages/markov\n",
    "\n",
    "# print(\"############################################\")\n",
    "# print(\"This command execution takes around >2 min...\")\n",
    "# !python3 sim_app_bundler.py --tar"
   ]
  },
  {
   "cell_type": "markdown",
   "metadata": {},
   "source": [
    "### Imports"
   ]
  },
  {
   "cell_type": "markdown",
   "metadata": {},
   "source": [
    "basic imports to get everything running"
   ]
  },
  {
   "cell_type": "code",
   "execution_count": 70,
   "metadata": {
    "scrolled": true
   },
   "outputs": [],
   "source": [
    "import boto3\n",
    "import sagemaker\n",
    "import sys\n",
    "import os\n",
    "import re\n",
    "import numpy as np\n",
    "import subprocess\n",
    "import yaml\n",
    "sys.path.append(\"common\")\n",
    "sys.path.append(\"./src\")\n",
    "from misc import get_execution_role, wait_for_s3_object\n",
    "from docker_utils import build_and_push_docker_image\n",
    "from sagemaker.rl import RLEstimator, RLToolkit, RLFramework\n",
    "from time import gmtime, strftime\n",
    "import time\n",
    "from IPython.display import Markdown\n",
    "from markdown_helper import *"
   ]
  },
  {
   "cell_type": "markdown",
   "metadata": {},
   "source": [
    "### Initializing basic parameters\n",
    "this includes setting up storage containers in S3 and some basic initialization"
   ]
  },
  {
   "cell_type": "code",
   "execution_count": 71,
   "metadata": {},
   "outputs": [],
   "source": [
    "# code to create a new bucket or use an existing bucket with allowed permissions\n",
    "useExistingBucket = True\n",
    "#if true , use exiting models else create a new model, make sure name is unique and add it to our \n",
    "#existing bucket only create a new folder\n",
    "FreireBucket = \"freirebros-deepracer\" #bucketname , this is global bucket (S3 Bucket)\n",
    "\n",
    "#the pretrained folder is incase yo have an old model already trained\n",
    "#if you have non then just call it \"\"\n",
    "#DO NOT PUT A  SLASH AT THE END IT MESSES EVERYTHING UP\n",
    "pretrainedModelPrefix = \"AndreiModels/Model-Andrei-Final-1-Shallow-gpu\" #this is the prefix name (a folder within sagemaker S3)\n",
    "\n",
    "#new model directory\n",
    "NewModelPrefix = \"AndreiModels/Model-Andrei-Final-4-Shallow-gpu\"\n",
    "\n",
    "#New Model for Kevins Reward Funciton\n",
    "#NewModelPrefix = \"KevinModels/DR-shallow-Architecture-gpu\"\n",
    "\n",
    "# Select the instance type\n",
    "#instance_type = \"ml.c4.2xlarge\"\n",
    "instance_type = \"ml.p2.xlarge\"\n",
    "#instance_type = \"ml.c5.4xlarge\"\n",
    "\n",
    "\n",
    "if not FreireBucket: \n",
    "    raise SystemExit(\"Please Enter a Bucket Name\")\n",
    "\n",
    "# Starting SageMaker session\n",
    "sage_session = sagemaker.session.Session(default_bucket = FreireBucket)\n",
    "\n",
    "# Create unique job name.\n",
    "job_name_prefix = 'deepracer-notebook'\n",
    "\n",
    "# Duration of job in seconds (4 hours)\n",
    "job_duration_in_seconds = 14400\n",
    "\n",
    "# AWS Region\n",
    "aws_region = sage_session.boto_region_name\n",
    "if aws_region not in [\"us-west-2\", \"us-east-1\", \"eu-west-1\"]:\n",
    "    raise Exception(\"This notebook uses RoboMaker which is available only in US East (N. Virginia),\"\n",
    "                    \"US West (Oregon) and EU (Ireland). Please switch to one of these regions.\")"
   ]
  },
  {
   "cell_type": "markdown",
   "metadata": {},
   "source": [
    "### Setup S3 bucket\n",
    "Set up the linkage and authentication to the S3 bucket that we want to use for checkpoint and metadata."
   ]
  },
  {
   "cell_type": "code",
   "execution_count": 72,
   "metadata": {},
   "outputs": [
    {
     "name": "stdout",
     "output_type": "stream",
     "text": [
      "Using s3 bucket freirebros-deepracer\n",
      "Model checkpoints and other metadata will be stored at: \n",
      "s3://freirebros-deepracer/AndreiModels/Model-Andrei-Final-4-Shallow-gpu\n"
     ]
    }
   ],
   "source": [
    "#Fetch S3 Bucket Resource\n",
    "if not NewModelPrefix:\n",
    "    raise systemExit(\"pleaser Enter a Prefix Name (Folder where the model is stored)\")\n",
    "# S3 bucket\n",
    "if not useExistingBucket:\n",
    "    s3_bucket = sage_session.default_bucket()\n",
    "else:\n",
    "    s3_bucket = FreireBucket\n",
    "# SDK appends the job name and output folder\n",
    "s3_output_path = 's3://{}/'.format(s3_bucket)\n",
    "\n",
    "#Ensure that the S3 prefix contains the keyword 'sagemaker'\n",
    "s3_prefix = NewModelPrefix\n",
    "\n",
    "# Get the AWS account id of this account\n",
    "sts = boto3.client(\"sts\")\n",
    "account_id = sts.get_caller_identity()['Account']\n",
    "\n",
    "print(\"Using s3 bucket {}\".format(s3_bucket))\n",
    "print(\"Model checkpoints and other metadata will be stored at: \\ns3://{}/{}\".format(s3_bucket, s3_prefix))\n"
   ]
  },
  {
   "cell_type": "markdown",
   "metadata": {},
   "source": [
    "### Create an IAM role\n",
    "Either get the execution role when running from a SageMaker notebook `role = sagemaker.get_execution_role()` or, when running from local machine, use utils method `role = get_execution_role('role_name')` to create an execution role."
   ]
  },
  {
   "cell_type": "code",
   "execution_count": 73,
   "metadata": {},
   "outputs": [
    {
     "name": "stdout",
     "output_type": "stream",
     "text": [
      "Using Sagemaker IAM role arn: \n",
      "arn:aws:iam::204747776045:role/service-role/AmazonSageMaker-ExecutionRole-20210210T204480\n"
     ]
    }
   ],
   "source": [
    "try:\n",
    "    sagemaker_role = sagemaker.get_execution_role()\n",
    "except:\n",
    "    sagemaker_role = get_execution_role('sagemaker')\n",
    "\n",
    "print(\"Using Sagemaker IAM role arn: \\n{}\".format(sagemaker_role))"
   ]
  },
  {
   "cell_type": "markdown",
   "metadata": {},
   "source": [
    "> Please note that this notebook cannot be run in `SageMaker local mode` as the simulator is based on AWS RoboMaker service."
   ]
  },
  {
   "cell_type": "markdown",
   "metadata": {},
   "source": [
    "### Permission setup for invoking AWS RoboMaker from this notebook\n",
    "In order to enable this notebook to be able to execute AWS RoboMaker jobs, we need to add one trust relationship to the default execution role of this notebook."
   ]
  },
  {
   "cell_type": "code",
   "execution_count": 39,
   "metadata": {},
   "outputs": [
    {
     "data": {
      "text/markdown": [
       "1. Go to IAM console to edit current SageMaker role: [AmazonSageMaker-ExecutionRole-20210210T204480](https://console.aws.amazon.com/iam/home#/roles/AmazonSageMaker-ExecutionRole-20210210T204480).\n",
       "2. Next, go to the `Trust relationships tab` and click on `Edit Trust Relationship.` \n",
       "3. Replace the JSON blob with the following:\n",
       "```json\n",
       "            {\n",
       "              \"Version\": \"2012-10-17\",\n",
       "              \"Statement\": [\n",
       "                {\n",
       "                  \"Effect\": \"Allow\",\n",
       "                  \"Principal\": {\n",
       "                    \"Service\": [\n",
       "                      \"sagemaker.amazonaws.com\",\n",
       "                      \"robomaker.amazonaws.com\"\n",
       "                    ]\n",
       "                  },\n",
       "                  \"Action\": \"sts:AssumeRole\"\n",
       "                }\n",
       "              ]\n",
       "            }```\n",
       "4. Once this is complete, click on Update Trust Policy and you are done."
      ],
      "text/plain": [
       "<IPython.core.display.Markdown object>"
      ]
     },
     "metadata": {},
     "output_type": "display_data"
    }
   ],
   "source": [
    "display(Markdown(generate_help_for_robomaker_trust_relationship(sagemaker_role)))"
   ]
  },
  {
   "cell_type": "markdown",
   "metadata": {},
   "source": [
    "### Permission setup for Sagemaker to S3 bucket\n",
    "\n",
    "The sagemaker writes the Redis IP address, models to the S3 bucket. This requires PutObject permission on the bucket. Make sure the sagemaker role you are using as this permissions."
   ]
  },
  {
   "cell_type": "code",
   "execution_count": 40,
   "metadata": {},
   "outputs": [
    {
     "data": {
      "text/markdown": [
       "1. Go to IAM console to edit current SageMaker role: [AmazonSageMaker-ExecutionRole-20210210T204480](https://console.aws.amazon.com/iam/home#/roles/AmazonSageMaker-ExecutionRole-20210210T204480).\n",
       "2. Next, go to the `Permissions tab` and click on `Attach Policy.` \n",
       "3. Search and select `AmazonKinesisVideoStreamsFullAccess` policy\n"
      ],
      "text/plain": [
       "<IPython.core.display.Markdown object>"
      ]
     },
     "metadata": {},
     "output_type": "display_data"
    }
   ],
   "source": [
    "display(Markdown(generate_s3_write_permission_for_sagemaker_role(sagemaker_role)))"
   ]
  },
  {
   "cell_type": "markdown",
   "metadata": {},
   "source": [
    "### Permission setup for Sagemaker to create KinesisVideoStreams\n",
    "\n",
    "The sagemaker notebook has to create a kinesis video streamer. You can observer the car making epsiodes in the kinesis video streamer."
   ]
  },
  {
   "cell_type": "code",
   "execution_count": 41,
   "metadata": {},
   "outputs": [
    {
     "data": {
      "text/markdown": [
       "1. Go to IAM console to edit current SageMaker role: [AmazonSageMaker-ExecutionRole-20210210T204480](https://console.aws.amazon.com/iam/home#/roles/AmazonSageMaker-ExecutionRole-20210210T204480).\n",
       "2. Next, go to the `Permissions tab` and click on `Attach Policy.` \n",
       "3. Search and select `AmazonS3FullAccess` policy\n"
      ],
      "text/plain": [
       "<IPython.core.display.Markdown object>"
      ]
     },
     "metadata": {},
     "output_type": "display_data"
    }
   ],
   "source": [
    "display(Markdown(generate_kinesis_create_permission_for_sagemaker_role(sagemaker_role)))"
   ]
  },
  {
   "cell_type": "markdown",
   "metadata": {},
   "source": [
    "### Build and push docker image\n",
    "\n",
    "The file ./Dockerfile contains all the packages that are installed into the docker. Instead of using the default sagemaker container. We will be using this docker container."
   ]
  },
  {
   "cell_type": "code",
   "execution_count": 74,
   "metadata": {
    "scrolled": true
   },
   "outputs": [
    {
     "name": "stdout",
     "output_type": "stream",
     "text": [
      "Copying files from your notebook to existing sagemaker container\n",
      "docker images sagemaker-docker-gpu | sed -n 2,2p\n",
      "Sagemaker docker id : 2554ff2a5752\n",
      "docker run -d -t 2554ff2a5752\n",
      "docker exec -d b219910423e38bb3f507b8b8b7991866e3356fa59614ac13ceb28ea9ad0a1be1 rm -rf /opt/amazon/markov\n",
      "docker cp ./src/markov b219910423e38bb3f507b8b8b7991866e3356fa59614ac13ceb28ea9ad0a1be1:/opt/amazon/markov\n",
      "============ Copied Markov scripts to sagemaker docker ============ \n",
      " \n",
      "docker ps -l|sed -n 2,2p\n",
      "docker commit b219910423e3 sagemaker-docker-gpu\n",
      "============ Commited all the changes to docker ============ \n",
      " \n",
      "CPU times: user 57.8 ms, sys: 37.6 ms, total: 95.4 ms\n",
      "Wall time: 2.13 s\n"
     ]
    }
   ],
   "source": [
    "%%time\n",
    "from copy_to_sagemaker_container import get_sagemaker_docker, copy_to_sagemaker_container, get_custom_image_name\n",
    "cpu_or_gpu = 'gpu' if instance_type.startswith('ml.p') else 'cpu'\n",
    "repository_short_name = \"sagemaker-docker-%s\" % cpu_or_gpu\n",
    "custom_image_name = get_custom_image_name(repository_short_name)\n",
    "try:\n",
    "    print(\"Copying files from your notebook to existing sagemaker container\")\n",
    "    sagemaker_docker_id = get_sagemaker_docker(repository_short_name)\n",
    "    copy_to_sagemaker_container(sagemaker_docker_id, repository_short_name)\n",
    "except Exception as e:\n",
    "    print(\"Creating sagemaker container\")\n",
    "    docker_build_args = {\n",
    "        'CPU_OR_GPU': cpu_or_gpu, \n",
    "        'AWS_REGION': boto3.Session().region_name,\n",
    "    }\n",
    "    custom_image_name = build_and_push_docker_image(repository_short_name, build_args=docker_build_args)\n",
    "    print(\"Using ECR image %s\" % custom_image_name)"
   ]
  },
  {
   "cell_type": "markdown",
   "metadata": {},
   "source": [
    "### Clean the docker images\n",
    "Remove this only when you want to completely remove the docker or clean up the space of the sagemaker instance"
   ]
  },
  {
   "cell_type": "code",
   "execution_count": 157,
   "metadata": {},
   "outputs": [
    {
     "name": "stdout",
     "output_type": "stream",
     "text": [
      "29d6a30d8562\n",
      "ca01bb6000e5\n",
      "ec16b7ecbeb7\n",
      "7b1637c16da1\n",
      "42af68e66a3d\n",
      "Untagged: sagemaker-docker-gpu:latest\n",
      "Deleted: sha256:4cc934183092fdd90155361426e1532ef25e8d915680fb154badb87881419242\n",
      "Deleted: sha256:52ceb1eb5f308e80306947b5627c0cb4a6eb58ad28b9450aa73358f514f28f01\n",
      "Deleted: sha256:17598ade343b3c1b08a64c0c4ed7ee1fd3388157df9bab896eba942616814e11\n",
      "Deleted: sha256:fab5aed19da5aeaede63e424184850454612f21df8ab62bb336c57804a037e17\n",
      "Deleted: sha256:e92949ea6e772b850055b4e3d581c33beaa9c5241d210a6779aee4100c46a3df\n",
      "Deleted: sha256:a7652a9237179131e0909015e8874b6872119db4cb92be1b43e3605431691f7e\n",
      "Deleted: sha256:8d50b0640d586862e3ee2d5b4db4d2b6fa98f3d26f7f5d991e9e45433b18b3e0\n",
      "Deleted: sha256:7b6dfdd448ec4babdcc5b7484f2b2a0ff212ecbb631954e5b2b078c90e49dda8\n",
      "Deleted: sha256:9416c09c5b75e033b061472236cecdc1c03ed1b026a9bf710c06add54815fc3d\n",
      "Deleted: sha256:06542ff848d3bb7d87fd9fdef4c3b1d858b8ac7d0084d310e0c2184d8e13f809\n",
      "Untagged: 204747776045.dkr.ecr.us-east-1.amazonaws.com/sagemaker-docker-gpu:latest\n",
      "Untagged: 204747776045.dkr.ecr.us-east-1.amazonaws.com/sagemaker-docker-gpu@sha256:a1196da497abe0d55bb7137dccb8717a4f7bc265b4d79d748a8fa4c8e47cc5f5\n",
      "Deleted: sha256:fbb1d288a121f174f732dd12bbf62c33a7dd1ac321fbc8542d84dfab00e4839c\n",
      "Deleted: sha256:19e6b938058adf3ec67adcc6abae4e32162851764e88af43d753295e2a704830\n",
      "Deleted: sha256:603ac640ad73c685550a7513cbba1066ea1b2435cc4b8fa482157ed30359a68f\n",
      "Deleted: sha256:cdeffc13d5b7a27da434fb5312b1993e3bf22db5ff9b3a65d92254643b65a6f1\n",
      "Deleted: sha256:327cf0a74418a17a7ef33767bedd00892fe91f45e26f571d8c7bc1f790df0ac5\n",
      "Deleted: sha256:386b66ed0b80f45ba41fec57a4733dea5aede30c82b19b757322eb72cd51339f\n",
      "Deleted: sha256:d5a990b0a17da92ed77257b944b40c4d0362b8eafd8e852027cdc8e0e5453604\n",
      "Deleted: sha256:beaeb88c90a3379ba562052cf4c0ae706be243421391b22f45ab09ef3aa1f7a2\n",
      "Deleted: sha256:8f16bad70f58f7fc41961a45728e9d935a4a291e0f4a06014e20a56bc5f22930\n",
      "Deleted: sha256:7a6d71a943d6399ef47d6c298c710565720dda4c8d45fa9592ce43a3d7369f90\n",
      "Deleted: sha256:4ccdd4155e0edfc68002bde34804775a2b99051f101fe542cfa96fb2f5d10429\n",
      "Deleted: sha256:a13cf02f69b701161ed6172a2d8647668fd601a1c893cd69e246575b798377d5\n",
      "Deleted: sha256:f2c29c9e9ee577c28c11ac5b46af3880b612b27a6dc731cc3ca5c85567a405a6\n",
      "Deleted: sha256:3269e57df9c63fd0d0ce1d3fb295cc3d51678916ca5d0fd0d0087de1627966ed\n",
      "Deleted: sha256:51875db909209fd30f67cc1f9e2df44f10256f8868e862ed5bf1c7af3d1f61b9\n",
      "Deleted: sha256:1a66ef80c879a64c361a234383f655a8bae665a8b8788507a20764217e1f9cba\n",
      "Deleted: sha256:8ec6040bb9aa2d7562ef556d2454151f96c9168b19e0cd32d2b3a2019209d179\n",
      "Deleted: sha256:ce6f01e44225c70293979d5d13d4a3e5d17f5042d5067694c145c0a5c09bcfbe\n",
      "Deleted: sha256:3439af20d3c8b58576f1a509c2c9f6d24bf3594c352d4aae6f408869ce23bed6\n",
      "Deleted: sha256:76e413f8ef7dd2695a3f4821ffdb0fccc3fe1cbbc01ba5bc9634e71589248efd\n",
      "Deleted: sha256:5b95ea77878462cc233f78fe45a34c59002746267c6b55e153742d622baf51f8\n",
      "Deleted: sha256:a7e4e85c6b75e69863449a5590c473c473a1c07bb3ff1c2a24581d5957e95560\n",
      "Deleted: sha256:998a99e41b6b9005a19850c8dbe75924a051e2fff075e6c183e610341f50ca82\n",
      "Deleted: sha256:2031d4cc75e08f8caa89237f05965ec580ffc42f4243550e9674d45a5dd4d657\n",
      "Deleted: sha256:bebf1b5d6a863cc7583048cec2bfbb21e202fdbd9dd465be170cb27bfd774d72\n",
      "Deleted: sha256:a7087286e86bb9c7da3898a689574d366f6707f64e78a8b5787ebdd0961ceb12\n",
      "Deleted: sha256:0ab2e0a0ba2c32f026b2fcc6d1d063111bb73ff9dac3a65127d38c1b3cdf4f60\n",
      "Deleted: sha256:12587b295ec6f3eaeac5c449196b0ec6ed82351e41f2ac9ffaac05a8e0d8710a\n",
      "Deleted: sha256:f9f0be159a0fcba11e1bbf74cebe54195f0e0ec33bbd6d3d4a4365aa3ae3b872\n",
      "Deleted: sha256:04a6d320ed3d84d6b8f6de38dc1eddbc266238ecb0ee1f48006c93c0929f0959\n",
      "Deleted: sha256:bf1f3bc72df5423a0b089514fbc2e11beef8acadc1672c148573db373aa8238f\n",
      "Deleted: sha256:1414d3308242f9a50a299257e2a9271fe9f793536a3b036c2814c049bb76db16\n",
      "Deleted: sha256:badf22bebadef45b126f9eb3ccb6e6a42f3645df6add53c4c708ef456a09abc0\n",
      "Untagged: 520713654638.dkr.ecr.us-east-1.amazonaws.com/sagemaker-tensorflow-scriptmode:1.12.0-gpu-py3\n",
      "Untagged: 520713654638.dkr.ecr.us-east-1.amazonaws.com/sagemaker-tensorflow-scriptmode@sha256:3d05c6a887b3ebcbeb9e90d30383c0ee7611306564f83a5b6c15ead41aa08483\n",
      "Deleted: sha256:f7d4491381ab144eea664d6aef0a129d1775627b94f5f33dbdb7fd53269c9564\n",
      "Deleted: sha256:95b44c62c6775bc6c51c962a97049279fa8e675a91db39600bbe4ef9343df0b4\n",
      "Deleted: sha256:0382220013c6d869296fcccb3931dba921d8c14a77e15fa28e37a647e6a815ca\n",
      "Deleted: sha256:227e1ee3c1427230a59ce50bd5c6702c8c14976b53c4c73f6e4bff3a2d898fc0\n",
      "Deleted: sha256:74e4e8a8165bd26311381bed5a5fbfebe8005476943c1e5e2445c3fbe72f98e8\n",
      "Deleted: sha256:3e6446c34d744906fe30328198deeca78f533df20ede41f77cbd450a3e9c1576\n",
      "Deleted: sha256:ad4c754be6c364e394173930b9e59a88b98d859f8028c0675f8015cd140d9aa2\n",
      "Deleted: sha256:fca0ea7bb8b605e5e34476f97cc36a450946e50749647a5c955a65e049628458\n",
      "Deleted: sha256:388be0e2fec5e5393f6857dfaf3d351a012f2bed197e97aedbf93eb19944a2d5\n",
      "Deleted: sha256:957c4e7d675f2eba660eb4caa56f3c4426ed5331302f1dec0383e47d52415637\n",
      "Deleted: sha256:710dbd0e5d30a1eaaa60dac89b2dae8beeb899ae3ffe6f1d83b9242f4f2aea5f\n",
      "Deleted: sha256:8c9bbcb74765ecf91128ea594aa581fc57837f4cfc8b854d56ada05aee6f191b\n",
      "Deleted: sha256:422d3516906db69ba73ed698694641114d2d783d4630af70c1d60f16ba3afc2b\n",
      "Deleted: sha256:bbba234ef18aabefbf2a0dcbd96163d8f95a11ea47bd8217d1b0d6d786765531\n",
      "Deleted: sha256:91e9282dac7ce9277c266ea9e84907e9b2e12f382af2d7e94cad0e468739b54d\n",
      "Deleted: sha256:5780cb3d4f1d75553f88e3f88e412c402f9021cf2a8c49256a401df305e0a66c\n",
      "Deleted: sha256:882f482a3d15d39a34cb941adde6fbd3e0c6d78ba7a370289a59c299c872e33c\n",
      "Deleted: sha256:3d9382e5d9ee1f2066fb4919a48f11318f9b463bfced67d1c26dd24361e3e072\n",
      "Deleted: sha256:e6fa212a7165a143d61823d67be268e19c7745a9c168756b71a0791831ebcc16\n",
      "Deleted: sha256:6f3c18e03a8828f895bc8e7fc1df5b7a6c199160370f29c7272c7ed5bcedb2ce\n",
      "Deleted: sha256:281e4ad18351d1556bd4764e674986d15572b52ec96137d7417fd4cc071c12ab\n",
      "Deleted: sha256:a0c1e01578b7e57d891b82a53a9debdb52dc642c581de3e9231d395989d39a03\n"
     ]
    }
   ],
   "source": [
    "# !docker rm -f $(docker ps -a -q);\n",
    "# !docker rmi -f $(docker images -q);"
   ]
  },
  {
   "cell_type": "markdown",
   "metadata": {},
   "source": [
    "### Configure VPC\n",
    "\n",
    "Since SageMaker and RoboMaker have to communicate with each other over the network, both of these services need to run in VPC mode. This can be done by supplying subnets and security groups to the job launching scripts.  \n",
    "We will check if the deepracer-vpc stack is created and use it if present (This is present if the AWS Deepracer console is used atleast once to create a model). Else we will use the default VPC stack."
   ]
  },
  {
   "cell_type": "code",
   "execution_count": 75,
   "metadata": {},
   "outputs": [
    {
     "name": "stdout",
     "output_type": "stream",
     "text": [
      "Using the default VPC stacks\n",
      "Using VPC: vpc-6cebf416\n",
      "Using security group: ['sg-26446204']\n",
      "Using subnets: ['subnet-f638fb90', 'subnet-00ef2621', 'subnet-57bb7408', 'subnet-62283e5c', 'subnet-2293016f', 'subnet-f4d551fa']\n"
     ]
    }
   ],
   "source": [
    "ec2 = boto3.client('ec2')\n",
    "\n",
    "\n",
    "print(\"Using the default VPC stacks\")\n",
    "deepracer_vpc = [vpc['VpcId'] for vpc in ec2.describe_vpcs()['Vpcs'] if vpc[\"IsDefault\"] == True][0]\n",
    "\n",
    "deepracer_security_groups = [group[\"GroupId\"] for group in ec2.describe_security_groups()['SecurityGroups'] \\\n",
    "                             if 'VpcId' in group and group[\"GroupName\"] == \"default\" and group[\"VpcId\"] == deepracer_vpc]\n",
    "\n",
    "deepracer_subnets = [subnet[\"SubnetId\"] for subnet in ec2.describe_subnets()[\"Subnets\"] \\\n",
    "                     if subnet[\"VpcId\"] == deepracer_vpc and subnet['DefaultForAz']==True]\n",
    "\n",
    "print(\"Using VPC:\", deepracer_vpc)\n",
    "print(\"Using security group:\", deepracer_security_groups)\n",
    "print(\"Using subnets:\", deepracer_subnets)"
   ]
  },
  {
   "cell_type": "markdown",
   "metadata": {},
   "source": [
    "### Create Route Table\n",
    "A SageMaker job running in VPC mode cannot access S3 resourcs. So, we need to create a VPC S3 endpoint to allow S3 access from SageMaker container. To learn more about the VPC mode, please visit [this link.](https://docs.aws.amazon.com/sagemaker/latest/dg/train-vpc.html)"
   ]
  },
  {
   "cell_type": "code",
   "execution_count": 76,
   "metadata": {},
   "outputs": [
    {
     "name": "stdout",
     "output_type": "stream",
     "text": [
      "Creating \n",
      "Trying to attach S3 endpoints to the following route tables: ['rtb-d36ff5ad']\n",
      "S3 endpoint already exists.\n"
     ]
    }
   ],
   "source": [
    "#TODO: Explain to customer what CREATE_ROUTE_TABLE is doing\n",
    "CREATE_ROUTE_TABLE = True\n",
    "\n",
    "def create_vpc_endpoint_table():\n",
    "    print(\"Creating \")\n",
    "    try:\n",
    "        route_tables = [route_table[\"RouteTableId\"] for route_table in ec2.describe_route_tables()['RouteTables']\\\n",
    "                        if route_table['VpcId'] == deepracer_vpc]\n",
    "    except Exception as e:\n",
    "        if \"UnauthorizedOperation\" in str(e):\n",
    "            display(Markdown(generate_help_for_s3_endpoint_permissions(sagemaker_role)))\n",
    "        else:\n",
    "            display(Markdown(create_s3_endpoint_manually(aws_region, deepracer_vpc)))\n",
    "        raise e\n",
    "\n",
    "    print(\"Trying to attach S3 endpoints to the following route tables:\", route_tables)\n",
    "    \n",
    "    if not route_tables:\n",
    "        raise Exception((\"No route tables were found. Please follow the VPC S3 endpoint creation \"\n",
    "                         \"guide by clicking the above link.\"))\n",
    "    try:\n",
    "        ec2.create_vpc_endpoint(DryRun=False,\n",
    "                                VpcEndpointType=\"Gateway\",\n",
    "                                VpcId=deepracer_vpc,\n",
    "                                ServiceName=\"com.amazonaws.{}.s3\".format(aws_region),\n",
    "                                RouteTableIds=route_tables)\n",
    "        print(\"S3 endpoint created successfully!\")\n",
    "    except Exception as e:\n",
    "        if \"RouteAlreadyExists\" in str(e):\n",
    "            print(\"S3 endpoint already exists.\")\n",
    "        elif \"UnauthorizedOperation\" in str(e):\n",
    "            display(Markdown(generate_help_for_s3_endpoint_permissions(role)))\n",
    "            raise e\n",
    "        else:\n",
    "            display(Markdown(create_s3_endpoint_manually(aws_region, deepracer_vpc)))\n",
    "            raise e\n",
    "\n",
    "if CREATE_ROUTE_TABLE:\n",
    "    create_vpc_endpoint_table()"
   ]
  },
  {
   "cell_type": "markdown",
   "metadata": {},
   "source": [
    "## Setup the environment\n",
    "\n",
    "The environment is defined in a Python file called “deepracer_racetrack_env.py” and the file can be found at `src/markov/environments/`. This file implements the gym interface for our Gazebo based RoboMakersimulator. This is a common environment file used by both SageMaker and RoboMaker. The environment variable - `NODE_TYPE` defines which node the code is running on. So, the expressions that have `rospy` dependencies are executed on RoboMaker only.  \n",
    "\n",
    "We can experiment with different reward functions by modifying `reward_function` in `src/markov/rewards/`. Action space and steering angles can be changed by modifying `src/markov/actions/`.json file\n",
    "\n",
    "### Configure the preset for RL algorithm\n",
    "\n",
    "The parameters that configure the RL training job are defined in `src/markov/presets/`. Using the preset file, you can define agent parameters to select the specific agent algorithm. We suggest using Clipped PPO for this example.  \n",
    "You can edit this file to modify algorithm parameters like learning_rate, neural network structure, batch_size, discount factor etc."
   ]
  },
  {
   "cell_type": "code",
   "execution_count": null,
   "metadata": {},
   "outputs": [],
   "source": [
    "# Uncomment the pygmentize code lines to see the code\n",
    "\n",
    "# Reward function\n",
    "#!pygmentize src/markov/rewards/default.py\n",
    "\n",
    "# Action space\n",
    "#!pygmentize src/markov/actions/single_speed_stereo_shallow.json\n",
    "\n",
    "# Preset File\n",
    "#!pygmentize src/markov/presets/default.py\n",
    "#!pygmentize src/markov/presets/preset_attention_layer.py"
   ]
  },
  {
   "cell_type": "markdown",
   "metadata": {},
   "source": [
    "### Copy custom files to S3 bucket so that sagemaker & robomaker can pick it up"
   ]
  },
  {
   "cell_type": "code",
   "execution_count": 77,
   "metadata": {},
   "outputs": [
    {
     "name": "stdout",
     "output_type": "stream",
     "text": [
      "s3://freirebros-deepracer/AndreiModels/Model-Andrei-Final-4-Shallow-gpu\n",
      "upload: src/artifacts/rewards/andrei_reward_optimized_turns.py to s3://freirebros-deepracer/AndreiModels/Model-Andrei-Final-4-Shallow-gpu/customer_reward_function.py\n",
      "upload: src/artifacts/actions/front_continuous_action_DR.json to s3://freirebros-deepracer/AndreiModels/Model-Andrei-Final-4-Shallow-gpu/model/model_metadata.json\n"
     ]
    }
   ],
   "source": [
    "s3_location = \"s3://%s/%s\" % (s3_bucket, s3_prefix)\n",
    "print(s3_location)\n",
    "\n",
    "# Clean up the previously uploaded files\n",
    "!aws s3 rm --recursive {s3_location}\n",
    "\n",
    "# Andrei Reward Funciton  \n",
    "!aws s3 cp ./src/artifacts/rewards/andrei_reward_optimized_turns.py {s3_location}/customer_reward_function.py\n",
    "\n",
    "# Kevin Reward Funciton  front_continuous_action_DR.json      freire_continous_custom_architecture.json\n",
    "#!aws s3 cp ./src/artifacts/rewards/default.py {s3_location}/customer_reward_function.py\n",
    "\n",
    "!aws s3 cp ./src/artifacts/actions/front_continuous_action_DR.json {s3_location}/model/model_metadata.json\n",
    "\n",
    "#!aws s3 cp src/markov/presets/default.py {s3_location}/presets/preset.py\n",
    "#!aws s3 cp src/markov/presets/preset_attention_layer.py {s3_location}/presets/preset.py"
   ]
  },
  {
   "cell_type": "markdown",
   "metadata": {},
   "source": [
    "### Train the RL model using the Python SDK Script mode\n",
    "\n",
    "Next, we define the following algorithm metrics that we want to capture from cloudwatch logs to monitor the training progress. These are algorithm specific parameters and might change for different algorithm. We use [Clipped PPO](https://coach.nervanasys.com/algorithms/policy_optimization/cppo/index.html) for this example."
   ]
  },
  {
   "cell_type": "code",
   "execution_count": 78,
   "metadata": {},
   "outputs": [],
   "source": [
    "metric_definitions = [\n",
    "    # Training> Name=main_level/agent, Worker=0, Episode=19, Total reward=-102.88, Steps=19019, Training iteration=1\n",
    "    {'Name': 'reward-training',\n",
    "     'Regex': '^Training>.*Total reward=(.*?),'},\n",
    "    \n",
    "    # Policy training> Surrogate loss=-0.32664725184440613, KL divergence=7.255815035023261e-06, Entropy=2.83156156539917, training epoch=0, learning_rate=0.00025\n",
    "    {'Name': 'ppo-surrogate-loss',\n",
    "     'Regex': '^Policy training>.*Surrogate loss=(.*?),'},\n",
    "     {'Name': 'ppo-entropy',\n",
    "     'Regex': '^Policy training>.*Entropy=(.*?),'},\n",
    "   \n",
    "    # Testing> Name=main_level/agent, Worker=0, Episode=19, Total reward=1359.12, Steps=20015, Training iteration=2\n",
    "    {'Name': 'reward-testing',\n",
    "     'Regex': '^Testing>.*Total reward=(.*?),'},\n",
    "]"
   ]
  },
  {
   "cell_type": "markdown",
   "metadata": {},
   "source": [
    "We use the RLEstimator for training RL jobs.\n",
    "\n",
    "1. Specify the source directory which has the environment file, preset and training code.\n",
    "2. Specify the entry point as the training code\n",
    "3. Specify the choice of RL toolkit and framework. This automatically resolves to the ECR path for the RL Container.\n",
    "4. Define the training parameters such as the instance count, instance type, job name, s3_bucket and s3_prefix for storing model checkpoints and metadata. **Only 1 training instance is supported for now.**\n",
    "4. Set the RLCOACH_PRESET as \"deepracer\" for this example.\n",
    "5. Define the metrics definitions that you are interested in capturing in your logs. These can also be visualized in CloudWatch and SageMaker Notebooks."
   ]
  },
  {
   "cell_type": "code",
   "execution_count": 79,
   "metadata": {},
   "outputs": [
    {
     "name": "stdout",
     "output_type": "stream",
     "text": [
      "Training job: deepracer-notebook-2021-04-17-21-11-04-519\n"
     ]
    }
   ],
   "source": [
    "estimator = RLEstimator(entry_point=\"base_training_worker.py\",\n",
    "                        source_dir='src',\n",
    "                        image_uri=custom_image_name,\n",
    "                        dependencies=[\"common/\"],\n",
    "                        role=sagemaker_role,\n",
    "                        instance_type=instance_type,\n",
    "                        instance_count=1,\n",
    "                        output_path=s3_output_path,\n",
    "                        base_job_name=job_name_prefix,\n",
    "                        metric_definitions=metric_definitions,\n",
    "                        max_run=job_duration_in_seconds,\n",
    "                        hyperparameters={\n",
    "                            \"s3_bucket\": s3_bucket,\n",
    "                            \"s3_prefix\": s3_prefix,\n",
    "                            \"aws_region\": aws_region,\n",
    "                            \"model_metadata_s3_key\": \"%s/model/model_metadata.json\" % s3_prefix,\n",
    "                            \"reward_function_s3_source\": \"%s/customer_reward_function.py\" % s3_prefix,\n",
    "                            \"batch_size\": \"64\",\n",
    "                            \"num_epochs\": \"10\",\n",
    "                            \"stack_size\": \"1\",\n",
    "                            \"lr\": \"0.0003\",\n",
    "                            \"exploration_type\": \"Categorical\",\n",
    "                            \"e_greedy_value\": \"1\",\n",
    "                            \"epsilon_steps\": \"10000\",\n",
    "                            \"beta_entropy\": \"0.01\",\n",
    "                            \"discount_factor\": \"0.95\",\n",
    "                            \"loss_type\": \"Huber\",\n",
    "                            \"num_episodes_between_training\": \"20\",\n",
    "                            \"max_sample_count\": \"0\",\n",
    "                            \"sampling_frequency\": \"1\"\n",
    "                            ,\"pretrained_s3_bucket\": FreireBucket\n",
    "                            ,\"pretrained_s3_prefix\": pretrainedModelPrefix\n",
    "                        },\n",
    "                        subnets=deepracer_subnets,\n",
    "                        security_group_ids=deepracer_security_groups,\n",
    "                    )\n",
    "\n",
    "estimator.fit(wait=False)\n",
    "job_name = estimator.latest_training_job.job_name\n",
    "print(\"Training job: %s\" % job_name)"
   ]
  },
  {
   "cell_type": "code",
   "execution_count": 80,
   "metadata": {},
   "outputs": [],
   "source": [
    "training_job_arn = estimator.latest_training_job.describe()['TrainingJobArn']"
   ]
  },
  {
   "cell_type": "markdown",
   "metadata": {},
   "source": [
    "### Create the Kinesis video stream"
   ]
  },
  {
   "cell_type": "code",
   "execution_count": 81,
   "metadata": {},
   "outputs": [
    {
     "name": "stdout",
     "output_type": "stream",
     "text": [
      "{\n",
      "    \"StreamARN\": \"arn:aws:kinesisvideo:us-east-1:204747776045:stream/dr-kvs-deepracer-notebook-2021-04-17-21-11-04-519/1618693868698\"\n",
      "}\n",
      "Created kinesis video stream dr-kvs-deepracer-notebook-2021-04-17-21-11-04-519\n"
     ]
    }
   ],
   "source": [
    "kvs_stream_name = \"dr-kvs-{}\".format(job_name)\n",
    "\n",
    "!aws --region {aws_region} kinesisvideo create-stream --stream-name {kvs_stream_name} --media-type video/h264 --data-retention-in-hours 24\n",
    "print (\"Created kinesis video stream {}\".format(kvs_stream_name))"
   ]
  },
  {
   "cell_type": "markdown",
   "metadata": {},
   "source": [
    "### Start the Robomaker job"
   ]
  },
  {
   "cell_type": "code",
   "execution_count": 82,
   "metadata": {},
   "outputs": [],
   "source": [
    "robomaker = boto3.client(\"robomaker\")"
   ]
  },
  {
   "cell_type": "markdown",
   "metadata": {},
   "source": [
    "### Create Simulation Application"
   ]
  },
  {
   "cell_type": "code",
   "execution_count": 83,
   "metadata": {},
   "outputs": [],
   "source": [
    "robomaker_s3_key = 'robomaker/simulation_ws.tar.gz'\n",
    "robomaker_source = {'s3Bucket': s3_bucket,\n",
    "                    's3Key': robomaker_s3_key,\n",
    "                    'architecture': \"X86_64\"}\n",
    "simulation_software_suite={'name': 'Gazebo',\n",
    "                           'version': '7'}\n",
    "robot_software_suite={'name': 'ROS',\n",
    "                      'version': 'Kinetic'}\n",
    "rendering_engine={'name': 'OGRE',\n",
    "                  'version': '1.x'}"
   ]
  },
  {
   "cell_type": "markdown",
   "metadata": {},
   "source": [
    "Download the DeepRacer bundle provided by RoboMaker service and upload it in our S3 bucket to create a RoboMaker Simulation Application"
   ]
  },
  {
   "cell_type": "code",
   "execution_count": 84,
   "metadata": {},
   "outputs": [
    {
     "name": "stdout",
     "output_type": "stream",
     "text": [
      "Using the simapp from build directory\n",
      "upload: build/output.tar.gz to s3://freirebros-deepracer/robomaker/simulation_ws.tar.gz\n"
     ]
    }
   ],
   "source": [
    "if not os.path.exists('./build/output.tar.gz'):\n",
    "    print(\"Using the latest simapp from public s3 bucket\")\n",
    "    # Download Robomaker simApp for the deepracer public s3 bucket\n",
    "    simulation_application_bundle_location = \"s3://deepracer-managed-resources-us-east-1/deepracer-simapp.tar.gz\"\n",
    "    !aws s3 cp {simulation_application_bundle_location} ./deepracer-simapp.tar.gz\n",
    "\n",
    "    # Remove if the Robomaker sim-app is present in s3 bucket\n",
    "    !aws s3 rm s3://{s3_bucket}/{robomaker_s3_key}\n",
    "\n",
    "    # Uploading the Robomaker SimApp to your S3 bucket\n",
    "    !aws s3 cp ./deepracer-simapp.tar.gz s3://{s3_bucket}/{robomaker_s3_key}\n",
    "\n",
    "    # Cleanup the locally downloaded version of SimApp\n",
    "    !rm deepracer-simapp.tar.gz\n",
    "else:\n",
    "    print(\"Using the simapp from build directory\")\n",
    "    !aws s3 cp ./build/output.tar.gz s3://{s3_bucket}/{robomaker_s3_key}"
   ]
  },
  {
   "cell_type": "code",
   "execution_count": 85,
   "metadata": {},
   "outputs": [
    {
     "name": "stdout",
     "output_type": "stream",
     "text": [
      "deepracer-notebook-application210417-211131\n",
      "Created a new simulation app with ARN: arn:aws:robomaker:us-east-1:204747776045:simulation-application/deepracer-notebook-application210417-211131/1618693891202\n"
     ]
    }
   ],
   "source": [
    "app_name = \"deepracer-notebook-application\" + strftime(\"%y%m%d-%H%M%S\", gmtime())\n",
    "\n",
    "print(app_name)\n",
    "try:\n",
    "    response = robomaker.create_simulation_application(name=app_name,\n",
    "                                                       sources=[robomaker_source],\n",
    "                                                       simulationSoftwareSuite=simulation_software_suite,\n",
    "                                                       robotSoftwareSuite=robot_software_suite,\n",
    "                                                       renderingEngine=rendering_engine)\n",
    "    simulation_app_arn = response[\"arn\"]\n",
    "    print(\"Created a new simulation app with ARN:\", simulation_app_arn)\n",
    "except Exception as e:\n",
    "    if \"AccessDeniedException\" in str(e):\n",
    "        display(Markdown(generate_help_for_robomaker_all_permissions(role)))\n",
    "        raise e\n",
    "    else:\n",
    "        raise e"
   ]
  },
  {
   "cell_type": "markdown",
   "metadata": {},
   "source": [
    "### Launch the Simulation job on RoboMaker\n",
    "\n",
    "We create [AWS RoboMaker](https://console.aws.amazon.com/robomaker/home#welcome) Simulation Jobs that simulates the environment and shares this data with SageMaker for training. "
   ]
  },
  {
   "cell_type": "code",
   "execution_count": 34,
   "metadata": {},
   "outputs": [],
   "source": [
    "#tracks you can use, there may be more now need to recheck....\n",
    "# Albert.world                      Mexico_track.world                reinvent_wood.world\n",
    "# AmericasGeneratedInclStart.world  Monaco_building.world             Singapore_building.world\n",
    "# Aragon.world                      Monaco.world                      Singapore_f1.world\n",
    "# Austin.world                      New_York_Track.world              Singapore.world\n",
    "# AWS_track.world                   Oval_track.world                  Spain_track_f1.world\n",
    "# Belille.world                     reInvent2019_track.world          Spain_track.world\n",
    "# Bowtie_track.world                reInvent2019_wide_mirrored.world  Straight_track.world\n",
    "# Canada_Training.world             reInvent2019_wide.world           Tokyo_Training_track.world\n",
    "# China_track.world                 reinvent_base_jeremiah.world      Vegas_track.world\n",
    "# FS_June2020.world                 reinvent_base.world               Virtual_May19_Train_track.world\n",
    "# July_2020.world                   reinvent_carpet.world\n",
    "# LGSWide.world                     reinvent_concrete.world"
   ]
  },
  {
   "cell_type": "code",
   "execution_count": 86,
   "metadata": {},
   "outputs": [
    {
     "name": "stdout",
     "output_type": "stream",
     "text": [
      "JOB_TYPE                                : TRAINING\n",
      "WORLD_NAME                              : reInvent2019_track\n",
      "SAGEMAKER_SHARED_S3_BUCKET              : freirebros-deepracer\n",
      "SAGEMAKER_SHARED_S3_PREFIX              : AndreiModels/Model-Andrei-Final-4-Shallow-gpu\n",
      "TRAINING_JOB_ARN                        : arn:aws:sagemaker:us-east-1:204747776045:training-job/deepracer-notebook-2021-04-17-21-11-04-519\n",
      "METRICS_S3_BUCKET                       : freirebros-deepracer\n",
      "METRICS_S3_OBJECT_KEY                   : AndreiModels/Model-Andrei-Final-4-Shallow-gpu/training_metrics.json\n",
      "SIMTRACE_S3_BUCKET                      : freirebros-deepracer\n",
      "SIMTRACE_S3_PREFIX                      : AndreiModels/Model-Andrei-Final-4-Shallow-gpu/iteration-data/training\n",
      "AWS_REGION                              : us-east-1\n",
      "TARGET_REWARD_SCORE                     : None\n",
      "NUMBER_OF_EPISODES                      : 0\n",
      "ROBOMAKER_SIMULATION_JOB_ACCOUNT_ID     : 204747776045\n",
      "CHANGE_START_POSITION                   : true\n",
      "ALTERNATE_DRIVING_DIRECTION             : false\n",
      "REVERSE_DIR                             : false\n",
      "KINESIS_VIDEO_STREAM_NAME               : dr-kvs-deepracer-notebook-2021-04-17-21-11-04-519\n",
      "REWARD_FILE_S3_KEY                      : AndreiModels/Model-Andrei-Final-4-Shallow-gpu/customer_reward_function.py\n",
      "MODEL_METADATA_FILE_S3_KEY              : AndreiModels/Model-Andrei-Final-4-Shallow-gpu/model/model_metadata.json\n",
      "NUMBER_OF_RESETS                        : 0\n",
      "CAR_COLOR                               : Blue\n",
      "ENABLE_DOMAIN_RANDOMIZATION             : false\n",
      "NUM_WORKERS                             : 1\n",
      "NUMBER_OF_OBSTACLES                     : 0\n",
      "MIN_DISTANCE_BETWEEN_OBSTACLES          : 2.0\n",
      "RANDOMIZE_OBSTACLE_LOCATIONS            : false\n",
      "IS_OBSTACLE_BOT_CAR                     : false\n",
      "NUMBER_OF_BOT_CARS                      : 0\n",
      "IS_LANE_CHANGE                          : false\n",
      "LOWER_LANE_CHANGE_TIME                  : 3.0\n",
      "UPPER_LANE_CHANGE_TIME                  : 5.0\n",
      "LANE_CHANGE_DISTANCE                    : 1.0\n",
      "MIN_DISTANCE_BETWEEN_BOT_CARS           : 2.0\n",
      "RANDOMIZE_BOT_CAR_LOCATIONS             : true\n",
      "BOT_CAR_SPEED                           : 0.2\n",
      "MP4_S3_BUCKET                           : freirebros-deepracer\n",
      "MP4_S3_OBJECT_PREFIX                    : AndreiModels/Model-Andrei-Final-4-Shallow-gpu/iteration-data/training\n",
      "RACE_TYPE                               : TIME_TRIAL\n",
      "VIDEO_JOB_TYPE                          : RACING\n",
      "DISPLAY_NAME                            : LongLongRacerNameBlaBlaBla\n",
      "RACER_NAME                              : racer-alias\n",
      "MODEL_NAME                              : bla-bla-model-user-created-in-customer\n",
      "LEADERBOARD_TYPE                        : LEAGUE\n",
      "LEADERBOARD_NAME                        : 2020 MARCH QUALIFIER\n"
     ]
    },
    {
     "name": "stderr",
     "output_type": "stream",
     "text": [
      "/home/ec2-user/anaconda3/envs/amazonei_tensorflow_p36/lib/python3.6/site-packages/ipykernel/__main__.py:7: YAMLLoadWarning: calling yaml.load() without Loader=... is deprecated, as the default Loader is unsafe. Please read https://msg.pyyaml.org/load for full details.\n"
     ]
    },
    {
     "name": "stdout",
     "output_type": "stream",
     "text": [
      "Completed 1.8 KiB/1.8 KiB (21.4 KiB/s) with 1 file(s) remaining\r",
      "upload: ./training_params.yaml to s3://freirebros-deepracer/AndreiModels/Model-Andrei-Final-4-Shallow-gpu/training_params.yaml\r\n"
     ]
    }
   ],
   "source": [
    "s3_yaml_name=\"training_params.yaml\"\n",
    "world_name = \"reInvent2019_track\"\n",
    "# Change this for multiple rollouts. This will invoke the specified number of robomaker jobs to collect experience\n",
    "num_simulation_workers = 1\n",
    "\n",
    "with open(\"./src/artifacts/yaml/training_yaml_template.yaml\", \"r\") as filepointer:\n",
    "    yaml_config = yaml.load(filepointer)\n",
    "\n",
    "yaml_config['WORLD_NAME']                  = world_name\n",
    "yaml_config['SAGEMAKER_SHARED_S3_BUCKET']  = s3_bucket\n",
    "yaml_config['SAGEMAKER_SHARED_S3_PREFIX']  = s3_prefix\n",
    "yaml_config['TRAINING_JOB_ARN']            = training_job_arn\n",
    "yaml_config['METRICS_S3_BUCKET']           = s3_bucket\n",
    "yaml_config['METRICS_S3_OBJECT_KEY']       = \"{}/training_metrics.json\".format(s3_prefix)\n",
    "yaml_config['SIMTRACE_S3_BUCKET']          = s3_bucket\n",
    "yaml_config['SIMTRACE_S3_PREFIX']          = \"{}/iteration-data/training\".format(s3_prefix)\n",
    "yaml_config['AWS_REGION']                  = aws_region\n",
    "yaml_config['ROBOMAKER_SIMULATION_JOB_ACCOUNT_ID'] = account_id\n",
    "yaml_config['KINESIS_VIDEO_STREAM_NAME']   = kvs_stream_name\n",
    "yaml_config['REWARD_FILE_S3_KEY']          = \"{}/customer_reward_function.py\".format(s3_prefix)\n",
    "yaml_config['MODEL_METADATA_FILE_S3_KEY']  = \"{}/model/model_metadata.json\".format(s3_prefix)\n",
    "yaml_config['NUM_WORKERS']                 = num_simulation_workers\n",
    "yaml_config['MP4_S3_BUCKET']               = s3_bucket\n",
    "yaml_config['DISPLAY_NAME']                = \"FreireBros\"\n",
    "yaml_config['RACER_NAME']                  = \"FreireBros\"\n",
    "yaml_config['MODEL_NAME']                  = \"Shallow-Model-8\"\n",
    "yaml_config['LEADERBOARD_TYPE']            = \"LEAGUE\"\n",
    "yaml_config['LEADERBOARD_NAME']            = \"APRIL QUALIFIER\"\n",
    "yaml_config['MP4_S3_OBJECT_PREFIX']        = \"{}/iteration-data/training\".format(s3_prefix)\n",
    "\n",
    "# Race-type supported for training are TIME_TRIAL, OBJECT_AVOIDANCE, HEAD_TO_BOT\n",
    "# If you need to modify more attributes look at the template yaml file\n",
    "race_type = \"TIME_TRIAL\"\n",
    "\n",
    "if race_type == \"OBJECT_AVOIDANCE\":\n",
    "    yaml_config['NUMBER_OF_OBSTACLES']     = \"6\"\n",
    "    yaml_config['RACE_TYPE']               = \"OBJECT_AVOIDANCE\"\n",
    "\n",
    "elif race_type == \"HEAD_TO_BOT\":\n",
    "    yaml_config['NUMBER_OF_BOT_CARS']      = \"6\"\n",
    "    yaml_config['RACE_TYPE']               = \"HEAD_TO_BOT\"\n",
    "\n",
    "# Printing the modified yaml parameter\n",
    "for key, value in yaml_config.items():\n",
    "    print(\"{}: {}\".format(key.ljust(40, ' '), value))\n",
    "\n",
    "# Uploading the modified yaml parameter\n",
    "with open(\"./training_params.yaml\", \"w\") as filepointer:\n",
    "    yaml.dump(yaml_config, filepointer)\n",
    "\n",
    "!aws s3 cp ./training_params.yaml {s3_location}/training_params.yaml\n",
    "!rm training_params.yaml"
   ]
  },
  {
   "cell_type": "code",
   "execution_count": 87,
   "metadata": {},
   "outputs": [
    {
     "name": "stdout",
     "output_type": "stream",
     "text": [
      "Created the following jobs:\n",
      "Job ARN arn:aws:robomaker:us-east-1:204747776045:simulation-job/sim-pbbnqcws1l48\n"
     ]
    }
   ],
   "source": [
    "vpcConfig = {\"subnets\": deepracer_subnets,\n",
    "             \"securityGroups\": deepracer_security_groups,\n",
    "             \"assignPublicIp\": True}\n",
    "\n",
    "responses = []\n",
    "for job_no in range(num_simulation_workers):\n",
    "    client_request_token = strftime(\"%Y-%m-%d-%H-%M-%S\", gmtime())\n",
    "    envriron_vars = {\n",
    "        \"S3_YAML_NAME\": s3_yaml_name,\n",
    "        \"SAGEMAKER_SHARED_S3_PREFIX\": s3_prefix,\n",
    "        \"SAGEMAKER_SHARED_S3_BUCKET\": s3_bucket,\n",
    "        \"WORLD_NAME\": world_name,\n",
    "        \"KINESIS_VIDEO_STREAM_NAME\": kvs_stream_name,\n",
    "        \"APP_REGION\": aws_region,\n",
    "        \"MODEL_METADATA_FILE_S3_KEY\": \"%s/model/model_metadata.json\" % s3_prefix,\n",
    "        \"ROLLOUT_IDX\": str(job_no)\n",
    "    }\n",
    "\n",
    "    simulation_application = {\"application\":simulation_app_arn,\n",
    "                              \"launchConfig\": {\"packageName\": \"deepracer_simulation_environment\",\n",
    "                                               \"launchFile\": \"distributed_training.launch\",\n",
    "                                               \"environmentVariables\": envriron_vars}\n",
    "                             }\n",
    "    response =  robomaker.create_simulation_job(iamRole=sagemaker_role,\n",
    "                                            clientRequestToken=client_request_token,\n",
    "                                            maxJobDurationInSeconds=job_duration_in_seconds,\n",
    "                                            failureBehavior=\"Fail\",\n",
    "                                            simulationApplications=[simulation_application],\n",
    "                                            vpcConfig=vpcConfig\n",
    "                                            )\n",
    "    responses.append(response)\n",
    "    time.sleep(5)\n",
    "    \n",
    "\n",
    "print(\"Created the following jobs:\")\n",
    "job_arns = [response[\"arn\"] for response in responses]\n",
    "for job_arn in job_arns:\n",
    "    print(\"Job ARN\", job_arn)"
   ]
  },
  {
   "cell_type": "markdown",
   "metadata": {},
   "source": [
    "### Visualizing the simulations in RoboMaker\n",
    "You can visit the RoboMaker console to visualize the simulations or run the following cell to generate the hyperlinks."
   ]
  },
  {
   "cell_type": "code",
   "execution_count": 89,
   "metadata": {},
   "outputs": [
    {
     "data": {
      "text/markdown": [
       "> Click on the following links for visualization of simulation jobs on RoboMaker Console\n",
       "- [Simulation 1](https://us-east-1.console.aws.amazon.com/robomaker/home?region=us-east-1#simulationJobs/sim-pbbnqcws1l48)  \n",
       "\n",
       "You can click on Gazebo after you open the above link to start the simulator."
      ],
      "text/plain": [
       "<IPython.core.display.Markdown object>"
      ]
     },
     "metadata": {},
     "output_type": "display_data"
    }
   ],
   "source": [
    "display(Markdown(generate_robomaker_links(job_arns, aws_region)))"
   ]
  },
  {
   "cell_type": "markdown",
   "metadata": {},
   "source": [
    "### Creating temporary folder top plot metrics"
   ]
  },
  {
   "cell_type": "code",
   "execution_count": 88,
   "metadata": {},
   "outputs": [
    {
     "name": "stdout",
     "output_type": "stream",
     "text": [
      "Create local folder /tmp/deepracer-notebook-2021-04-17-21-11-04-519\n"
     ]
    }
   ],
   "source": [
    "tmp_dir = \"/tmp/{}\".format(job_name)\n",
    "os.system(\"mkdir {}\".format(tmp_dir))\n",
    "print(\"Create local folder {}\".format(tmp_dir))"
   ]
  },
  {
   "cell_type": "markdown",
   "metadata": {},
   "source": [
    "### Plot metrics for training job"
   ]
  },
  {
   "cell_type": "code",
   "execution_count": 93,
   "metadata": {},
   "outputs": [
    {
     "name": "stdout",
     "output_type": "stream",
     "text": [
      "Waiting for s3://freirebros-deepracer/AndreiModels/Model-Andrei-Final-4-Shallow-gpu/training_metrics.json...\n",
      "Downloading AndreiModels/Model-Andrei-Final-4-Shallow-gpu/training_metrics.json\n"
     ]
    },
    {
     "data": {
      "image/png": "[encoded data removed]",
      "text/plain": [
       "<Figure size 864x360 with 1 Axes>"
      ]
     },
     "metadata": {
      "needs_background": "light"
     },
     "output_type": "display_data"
    }
   ],
   "source": [
    "%matplotlib inline\n",
    "import pandas as pd\n",
    "import json\n",
    "\n",
    "training_metrics_file = \"training_metrics.json\"\n",
    "training_metrics_path = \"{}/{}\".format(s3_prefix, training_metrics_file)\n",
    "wait_for_s3_object(s3_bucket, training_metrics_path, tmp_dir)\n",
    "\n",
    "json_file = \"{}/{}\".format(tmp_dir, training_metrics_file)\n",
    "with open(json_file) as fp:  \n",
    "    data = json.load(fp)\n",
    "\n",
    "df = pd.DataFrame(data['metrics'])\n",
    "x_axis = 'episode'\n",
    "y_axis = 'reward_score'\n",
    "\n",
    "plt = df.plot(x=x_axis,y=y_axis, figsize=(12,5), legend=True, style='b-')\n",
    "plt.set_ylabel(y_axis);\n",
    "plt.set_xlabel(x_axis);"
   ]
  },
  {
   "cell_type": "markdown",
   "metadata": {},
   "source": [
    "### Clean up RoboMaker and SageMaker training job\n",
    "\n",
    "Execute the cells below if you want to kill RoboMaker and SageMaker job."
   ]
  },
  {
   "cell_type": "code",
   "execution_count": 154,
   "metadata": {},
   "outputs": [
    {
     "data": {
      "text/plain": [
       "{'ResponseMetadata': {'RequestId': '8a02bcf8-3cf5-4231-b713-f0f40f33e774',\n",
       "  'HTTPStatusCode': 200,\n",
       "  'HTTPHeaders': {'x-amzn-requestid': '8a02bcf8-3cf5-4231-b713-f0f40f33e774',\n",
       "   'content-type': 'application/x-amz-json-1.1',\n",
       "   'content-length': '0',\n",
       "   'date': 'Sat, 17 Apr 2021 04:30:02 GMT'},\n",
       "  'RetryAttempts': 0}}"
      ]
     },
     "execution_count": 154,
     "metadata": {},
     "output_type": "execute_result"
    }
   ],
   "source": [
    "# # Cancelling robomaker job\n",
    "# for job_arn in job_arns:\n",
    "#     robomaker.cancel_simulation_job(job=job_arn)\n",
    "\n",
    "# # Stopping sagemaker training job\n",
    "# sage_session.sagemaker_client.stop_training_job(TrainingJobName=estimator._current_job_name)"
   ]
  },
  {
   "cell_type": "markdown",
   "metadata": {},
   "source": [
    "# Evaluation (Time trail, Object avoidance, Head to bot)"
   ]
  },
  {
   "cell_type": "code",
   "execution_count": 63,
   "metadata": {},
   "outputs": [
    {
     "name": "stdout",
     "output_type": "stream",
     "text": [
      "JOB_TYPE                                : EVALUATION\n",
      "WORLD_NAME                              : Oval_track\n",
      "MODEL_S3_BUCKET                         : freirebros-deepracer\n",
      "MODEL_S3_PREFIX                         : AndreiModels/Model-Andrei-Final-4-Architecture-gpu\n",
      "AWS_REGION                              : us-east-1\n",
      "METRICS_S3_BUCKET                       : freirebros-deepracer\n",
      "METRICS_S3_OBJECT_KEY                   : AndreiModels/Model-Andrei-Final-4-Architecture-gpu/evaluation_metrics.json\n",
      "SIMTRACE_S3_BUCKET                      : freirebros-deepracer\n",
      "SIMTRACE_S3_PREFIX                      : AndreiModels/Model-Andrei-Final-4-Architecture-gpu/iteration-data/evaluation\n",
      "NUMBER_OF_TRIALS                        : 10\n",
      "ROBOMAKER_SIMULATION_JOB_ACCOUNT_ID     : 204747776045\n",
      "CAR_COLOR                               : Grey\n",
      "NUMBER_OF_RESETS                        : 10000\n",
      "PENALTY_SECONDS                         : 2.0\n",
      "IS_CONTINUOUS                           : false\n",
      "OFF_TRACK_PENALTY                       : 0.0\n",
      "COLLISION_PENALTY                       : 0.0\n",
      "ENABLE_DOMAIN_RANDOMIZATION             : false\n",
      "REVERSE_DIR                             : false\n",
      "NUMBER_OF_OBSTACLES                     : 0\n",
      "MIN_DISTANCE_BETWEEN_OBSTACLES          : 2.0\n",
      "RANDOMIZE_OBSTACLE_LOCATIONS            : false\n",
      "IS_OBSTACLE_BOT_CAR                     : false\n",
      "NUMBER_OF_BOT_CARS                      : 0\n",
      "IS_LANE_CHANGE                          : false\n",
      "LOWER_LANE_CHANGE_TIME                  : 3.0\n",
      "UPPER_LANE_CHANGE_TIME                  : 5.0\n",
      "LANE_CHANGE_DISTANCE                    : 1.0\n",
      "MIN_DISTANCE_BETWEEN_BOT_CARS           : 2.0\n",
      "RANDOMIZE_BOT_CAR_LOCATIONS             : true\n",
      "BOT_CAR_SPEED                           : 0.2\n",
      "MP4_S3_BUCKET                           : freirebros-deepracer\n",
      "MP4_S3_OBJECT_PREFIX                    : AndreiModels/Model-Andrei-Final-4-Architecture-gpu/iteration-data/evaluation\n",
      "RACE_TYPE                               : TIME_TRIAL\n",
      "VIDEO_JOB_TYPE                          : RACING\n",
      "DISPLAY_NAME                            : LongLongRacerNameBlaBlaBla\n",
      "RACER_NAME                              : racer-alias\n",
      "MODEL_NAME                              : bla-bla-model-user-created-in-customer\n",
      "LEADERBOARD_TYPE                        : LEAGUE\n",
      "LEADERBOARD_NAME                        : 2020 MARCH QUALIFIER\n"
     ]
    },
    {
     "name": "stderr",
     "output_type": "stream",
     "text": [
      "/home/ec2-user/anaconda3/envs/amazonei_tensorflow_p36/lib/python3.6/site-packages/ipykernel/__main__.py:6: YAMLLoadWarning: calling yaml.load() without Loader=... is deprecated, as the default Loader is unsafe. Please read https://msg.pyyaml.org/load for full details.\n"
     ]
    },
    {
     "name": "stdout",
     "output_type": "stream",
     "text": [
      "Completed 1.4 KiB/1.4 KiB (20.8 KiB/s) with 1 file(s) remaining\r",
      "upload: ./evaluation_params.yaml to s3://freirebros-deepracer/AndreiModels/Model-Andrei-Final-4-Architecture-gpu/evaluation_params.yaml\r\n"
     ]
    }
   ],
   "source": [
    "s3_yaml_name=\"evaluation_params.yaml\"\n",
    "world_name = \"reInvent2019_track\"\n",
    "# world_name = \"Monaco_building\"\n",
    "\n",
    "with open(\"./src/artifacts/yaml/evaluation_yaml_template.yaml\", \"r\") as filepointer:\n",
    "    yaml_config = yaml.load(filepointer)\n",
    "\n",
    "yaml_config['WORLD_NAME']                  = world_name\n",
    "yaml_config['MODEL_S3_BUCKET']             = s3_bucket\n",
    "yaml_config['MODEL_S3_PREFIX']             = s3_prefix\n",
    "yaml_config['AWS_REGION']                  = aws_region\n",
    "yaml_config['METRICS_S3_BUCKET']           = s3_bucket\n",
    "yaml_config['METRICS_S3_OBJECT_KEY']       = \"{}/evaluation_metrics.json\".format(s3_prefix)\n",
    "yaml_config['SIMTRACE_S3_BUCKET']          = s3_bucket\n",
    "yaml_config['SIMTRACE_S3_PREFIX']          = \"{}/iteration-data/evaluation\".format(s3_prefix)\n",
    "yaml_config['ROBOMAKER_SIMULATION_JOB_ACCOUNT_ID'] = account_id\n",
    "yaml_config['NUMBER_OF_TRIALS']            = \"10\"\n",
    "yaml_config['MP4_S3_BUCKET']               = s3_bucket\n",
    "yaml_config['DISPLAY_NAME']                = \"FreireBros\"\n",
    "yaml_config['RACER_NAME']                  = \"FreireBros\"\n",
    "yaml_config['MODEL_NAME']                  = \"Shallow-Model-8\"\n",
    "yaml_config['LEADERBOARD_TYPE']            = \"LEAGUE\"\n",
    "yaml_config['LEADERBOARD_NAME']            = \"APRIL QUALIFIER\"\n",
    "yaml_config['MP4_S3_OBJECT_PREFIX']        = \"{}/iteration-data/evaluation\".format(s3_prefix)\n",
    "\n",
    "\n",
    "# Race-type supported for training are TIME_TRIAL, OBJECT_AVOIDANCE, HEAD_TO_BOT\n",
    "# If you need to modify more attributes look at the template yaml file\n",
    "race_type = \"TIME_TRIAL\"\n",
    "\n",
    "if race_type == \"OBJECT_AVOIDANCE\":\n",
    "    yaml_config['NUMBER_OF_OBSTACLES']     = \"6\"\n",
    "    yaml_config['RACE_TYPE']               = \"OBJECT_AVOIDANCE\"\n",
    "\n",
    "elif race_type == \"HEAD_TO_BOT\":\n",
    "    yaml_config['NUMBER_OF_BOT_CARS']      = \"6\"\n",
    "    yaml_config['RACE_TYPE']               = \"HEAD_TO_BOT\"\n",
    "\n",
    "# Printing the modified yaml parameter\n",
    "for key, value in yaml_config.items():\n",
    "    print(\"{}: {}\".format(key.ljust(40, ' '), value))\n",
    "\n",
    "# Uploading the modified yaml parameter\n",
    "with open(\"./evaluation_params.yaml\", \"w\") as filepointer:\n",
    "    yaml.dump(yaml_config, filepointer)\n",
    "\n",
    "!aws s3 cp ./evaluation_params.yaml {s3_location}/evaluation_params.yaml\n",
    "!rm evaluation_params.yaml"
   ]
  },
  {
   "cell_type": "code",
   "execution_count": 64,
   "metadata": {},
   "outputs": [
    {
     "name": "stdout",
     "output_type": "stream",
     "text": [
      "Created the following jobs:\n",
      "Job ARN arn:aws:robomaker:us-east-1:204747776045:simulation-job/sim-pc3ps7sy54yl\n"
     ]
    }
   ],
   "source": [
    "num_simulation_workers = 1\n",
    "\n",
    "envriron_vars = {\n",
    "    \"S3_YAML_NAME\": s3_yaml_name,\n",
    "    \"MODEL_S3_PREFIX\": s3_prefix,\n",
    "    \"MODEL_S3_BUCKET\": s3_bucket,\n",
    "    \"WORLD_NAME\": world_name,\n",
    "    \"KINESIS_VIDEO_STREAM_NAME\": kvs_stream_name,\n",
    "    \"APP_REGION\": aws_region,\n",
    "    \"MODEL_METADATA_FILE_S3_KEY\": \"%s/model/model_metadata.json\" % s3_prefix\n",
    "}\n",
    "\n",
    "simulation_application = {\n",
    "    \"application\":simulation_app_arn,\n",
    "    \"launchConfig\": {\n",
    "         \"packageName\": \"deepracer_simulation_environment\",\n",
    "         \"launchFile\": \"evaluation.launch\",\n",
    "         \"environmentVariables\": envriron_vars\n",
    "    }\n",
    "}\n",
    "                            \n",
    "vpcConfig = {\"subnets\": deepracer_subnets,\n",
    "             \"securityGroups\": deepracer_security_groups,\n",
    "             \"assignPublicIp\": True}\n",
    "\n",
    "responses = []\n",
    "for job_no in range(num_simulation_workers):\n",
    "    response =  robomaker.create_simulation_job(clientRequestToken=strftime(\"%Y-%m-%d-%H-%M-%S\", gmtime()),\n",
    "                                                outputLocation={ \n",
    "                                                  \"s3Bucket\": s3_bucket,\n",
    "                                                  \"s3Prefix\": s3_prefix\n",
    "                                                },\n",
    "                                                maxJobDurationInSeconds=job_duration_in_seconds,\n",
    "                                                iamRole=sagemaker_role,\n",
    "                                                failureBehavior=\"Fail\",\n",
    "                                                simulationApplications=[simulation_application],\n",
    "                                                vpcConfig=vpcConfig)\n",
    "    responses.append(response)\n",
    "\n",
    "print(\"Created the following jobs:\")\n",
    "job_arns = [response[\"arn\"] for response in responses]\n",
    "for job_arn in job_arns:\n",
    "    print(\"Job ARN\", job_arn)"
   ]
  },
  {
   "cell_type": "markdown",
   "metadata": {},
   "source": [
    "### Visualizing the simulations in RoboMaker\n",
    "You can visit the RoboMaker console to visualize the simulations or run the following cell to generate the hyperlinks."
   ]
  },
  {
   "cell_type": "code",
   "execution_count": 65,
   "metadata": {},
   "outputs": [
    {
     "data": {
      "text/markdown": [
       "> Click on the following links for visualization of simulation jobs on RoboMaker Console\n",
       "- [Simulation 1](https://us-east-1.console.aws.amazon.com/robomaker/home?region=us-east-1#simulationJobs/sim-pc3ps7sy54yl)  \n",
       "\n",
       "You can click on Gazebo after you open the above link to start the simulator."
      ],
      "text/plain": [
       "<IPython.core.display.Markdown object>"
      ]
     },
     "metadata": {},
     "output_type": "display_data"
    }
   ],
   "source": [
    "display(Markdown(generate_robomaker_links(job_arns, aws_region)))"
   ]
  },
  {
   "cell_type": "markdown",
   "metadata": {},
   "source": [
    "### Creating temporary folder top plot metrics"
   ]
  },
  {
   "cell_type": "code",
   "execution_count": 69,
   "metadata": {},
   "outputs": [
    {
     "name": "stdout",
     "output_type": "stream",
     "text": [
      "Waiting for s3://freirebros-deepracer/AndreiModels/Model-Andrei-Final-4-Architecture-gpu/evaluation_metrics.json...\n",
      "Downloading AndreiModels/Model-Andrei-Final-4-Architecture-gpu/evaluation_metrics.json\n"
     ]
    },
    {
     "data": {
      "text/html": [
       "<div>\n",
       "<style scoped>\n",
       "    .dataframe tbody tr th:only-of-type {\n",
       "        vertical-align: middle;\n",
       "    }\n",
       "\n",
       "    .dataframe tbody tr th {\n",
       "        vertical-align: top;\n",
       "    }\n",
       "\n",
       "    .dataframe thead th {\n",
       "        text-align: right;\n",
       "    }\n",
       "</style>\n",
       "<table border=\"1\" class=\"dataframe\">\n",
       "  <thead>\n",
       "    <tr style=\"text-align: right;\">\n",
       "      <th></th>\n",
       "      <th>trial</th>\n",
       "      <th>completion_percentage</th>\n",
       "      <th>elapsed_time</th>\n",
       "      <th>off_track_count</th>\n",
       "    </tr>\n",
       "  </thead>\n",
       "  <tbody>\n",
       "    <tr>\n",
       "      <th>0</th>\n",
       "      <td>1</td>\n",
       "      <td>100</td>\n",
       "      <td>14.253</td>\n",
       "      <td>7</td>\n",
       "    </tr>\n",
       "    <tr>\n",
       "      <th>1</th>\n",
       "      <td>2</td>\n",
       "      <td>100</td>\n",
       "      <td>13.387</td>\n",
       "      <td>5</td>\n",
       "    </tr>\n",
       "    <tr>\n",
       "      <th>2</th>\n",
       "      <td>3</td>\n",
       "      <td>100</td>\n",
       "      <td>14.337</td>\n",
       "      <td>8</td>\n",
       "    </tr>\n",
       "    <tr>\n",
       "      <th>3</th>\n",
       "      <td>4</td>\n",
       "      <td>100</td>\n",
       "      <td>14.991</td>\n",
       "      <td>10</td>\n",
       "    </tr>\n",
       "    <tr>\n",
       "      <th>4</th>\n",
       "      <td>5</td>\n",
       "      <td>100</td>\n",
       "      <td>14.362</td>\n",
       "      <td>7</td>\n",
       "    </tr>\n",
       "    <tr>\n",
       "      <th>5</th>\n",
       "      <td>6</td>\n",
       "      <td>100</td>\n",
       "      <td>14.147</td>\n",
       "      <td>7</td>\n",
       "    </tr>\n",
       "    <tr>\n",
       "      <th>6</th>\n",
       "      <td>7</td>\n",
       "      <td>100</td>\n",
       "      <td>14.594</td>\n",
       "      <td>8</td>\n",
       "    </tr>\n",
       "    <tr>\n",
       "      <th>7</th>\n",
       "      <td>8</td>\n",
       "      <td>100</td>\n",
       "      <td>13.755</td>\n",
       "      <td>6</td>\n",
       "    </tr>\n",
       "    <tr>\n",
       "      <th>8</th>\n",
       "      <td>9</td>\n",
       "      <td>100</td>\n",
       "      <td>14.516</td>\n",
       "      <td>7</td>\n",
       "    </tr>\n",
       "    <tr>\n",
       "      <th>9</th>\n",
       "      <td>10</td>\n",
       "      <td>100</td>\n",
       "      <td>13.988</td>\n",
       "      <td>6</td>\n",
       "    </tr>\n",
       "  </tbody>\n",
       "</table>\n",
       "</div>"
      ],
      "text/plain": [
       "   trial  completion_percentage  elapsed_time  off_track_count\n",
       "0      1                    100        14.253                7\n",
       "1      2                    100        13.387                5\n",
       "2      3                    100        14.337                8\n",
       "3      4                    100        14.991               10\n",
       "4      5                    100        14.362                7\n",
       "5      6                    100        14.147                7\n",
       "6      7                    100        14.594                8\n",
       "7      8                    100        13.755                6\n",
       "8      9                    100        14.516                7\n",
       "9     10                    100        13.988                6"
      ]
     },
     "metadata": {},
     "output_type": "display_data"
    }
   ],
   "source": [
    "evaluation_metrics_file = \"evaluation_metrics.json\"\n",
    "evaluation_metrics_path = \"{}/{}\".format(s3_prefix, evaluation_metrics_file)\n",
    "wait_for_s3_object(s3_bucket, evaluation_metrics_path, tmp_dir)\n",
    "\n",
    "json_file = \"{}/{}\".format(tmp_dir, evaluation_metrics_file)\n",
    "with open(json_file) as fp:  \n",
    "    data = json.load(fp)\n",
    "\n",
    "df = pd.DataFrame(data['metrics'])\n",
    "# Converting milliseconds to seconds\n",
    "df['elapsed_time'] = df['elapsed_time_in_milliseconds']/1000\n",
    "df = df[['trial', 'completion_percentage', 'elapsed_time','off_track_count']]\n",
    "\n",
    "display(df)"
   ]
  },
  {
   "cell_type": "markdown",
   "metadata": {},
   "source": [
    "### Clean Up Simulation Application Resource"
   ]
  },
  {
   "cell_type": "code",
   "execution_count": 156,
   "metadata": {},
   "outputs": [
    {
     "data": {
      "text/plain": [
       "{'ResponseMetadata': {'RequestId': '2c68e349-5fdc-4bef-aa31-a2c1bcfee8ee',\n",
       "  'HTTPStatusCode': 200,\n",
       "  'HTTPHeaders': {'date': 'Sat, 17 Apr 2021 04:30:36 GMT',\n",
       "   'content-type': 'application/json',\n",
       "   'content-length': '2',\n",
       "   'connection': 'keep-alive',\n",
       "   'x-amzn-requestid': '2c68e349-5fdc-4bef-aa31-a2c1bcfee8ee',\n",
       "   'x-amz-apigw-id': 'd6Sg9GPYIAMF-fA=',\n",
       "   'x-amzn-trace-id': 'Root=1-607a646c-00d192f03fdf532c3a5e537a'},\n",
       "  'RetryAttempts': 0}}"
      ]
     },
     "execution_count": 156,
     "metadata": {},
     "output_type": "execute_result"
    }
   ],
   "source": [
    "robomaker.delete_simulation_application(application=simulation_app_arn)"
   ]
  },
  {
   "cell_type": "markdown",
   "metadata": {},
   "source": [
    "### Clean your S3 bucket (Uncomment the awscli commands if you want to do it)"
   ]
  },
  {
   "cell_type": "code",
   "execution_count": 155,
   "metadata": {},
   "outputs": [
    {
     "name": "stdout",
     "output_type": "stream",
     "text": [
      "delete: s3://freirebros-deepracer/AndreiModels/Model-Andrei-Final-4-Architecture-gpu/iteration-data/training/camera-45degree/68-video.mp4\n",
      "delete: s3://freirebros-deepracer/AndreiModels/Model-Andrei-Final-4-Architecture-gpu/customer_reward_function.py\n",
      "delete: s3://freirebros-deepracer/AndreiModels/Model-Andrei-Final-4-Architecture-gpu/iteration-data/training/camera-pip/68-video.mp4\n",
      "delete: s3://freirebros-deepracer/AndreiModels/Model-Andrei-Final-4-Architecture-gpu/model/180_Step-46639.ckpt.meta\n",
      "delete: s3://freirebros-deepracer/AndreiModels/Model-Andrei-Final-4-Architecture-gpu/model/180_Step-46639.ckpt.index\n",
      "delete: s3://freirebros-deepracer/AndreiModels/Model-Andrei-Final-4-Architecture-gpu/model/181_Step-46963.ckpt.meta\n",
      "delete: s3://freirebros-deepracer/AndreiModels/Model-Andrei-Final-4-Architecture-gpu/iteration-data/training/training-simtrace/68-iteration.csv\n",
      "delete: s3://freirebros-deepracer/AndreiModels/Model-Andrei-Final-4-Architecture-gpu/model/181_Step-46963.ckpt.index\n",
      "delete: s3://freirebros-deepracer/AndreiModels/Model-Andrei-Final-4-Architecture-gpu/model/.coach_checkpoint\n",
      "delete: s3://freirebros-deepracer/AndreiModels/Model-Andrei-Final-4-Architecture-gpu/iteration-data/training/camera-topview/68-video.mp4\n",
      "delete: s3://freirebros-deepracer/AndreiModels/Model-Andrei-Final-4-Architecture-gpu/model/deepracer_checkpoints.json\n",
      "delete: s3://freirebros-deepracer/AndreiModels/Model-Andrei-Final-4-Architecture-gpu/model/180_Step-46639.ckpt.data-00000-of-00001\n",
      "delete: s3://freirebros-deepracer/AndreiModels/Model-Andrei-Final-4-Architecture-gpu/model/model_metadata.json\n",
      "delete: s3://freirebros-deepracer/AndreiModels/Model-Andrei-Final-4-Architecture-gpu/training_metrics.json\n",
      "delete: s3://freirebros-deepracer/AndreiModels/Model-Andrei-Final-4-Architecture-gpu/model/model_181.pb\n",
      "delete: s3://freirebros-deepracer/AndreiModels/Model-Andrei-Final-4-Architecture-gpu/model/181_Step-46963.ckpt.data-00000-of-00001\n",
      "delete: s3://freirebros-deepracer/AndreiModels/Model-Andrei-Final-4-Architecture-gpu/model/model_180.pb\n",
      "delete: s3://freirebros-deepracer/deepracer-notebook-2021-04-17-02-26-35-637/profiler-output/system/incremental/2021041702/1618626540.algo-1.json\n",
      "delete: s3://freirebros-deepracer/deepracer-notebook-2021-04-17-02-26-35-637/profiler-output/system/incremental/2021041702/1618626600.algo-1.json\n",
      "delete: s3://freirebros-deepracer/deepracer-notebook-2021-04-17-02-26-35-637/profiler-output/system/incremental/2021041702/1618626720.algo-1.json\n",
      "delete: s3://freirebros-deepracer/deepracer-notebook-2021-04-17-02-26-35-637/profiler-output/system/incremental/2021041702/1618627200.algo-1.json\n",
      "delete: s3://freirebros-deepracer/deepracer-notebook-2021-04-17-02-26-35-637/profiler-output/system/incremental/2021041702/1618627140.algo-1.json\n",
      "delete: s3://freirebros-deepracer/deepracer-notebook-2021-04-17-02-26-35-637/profiler-output/system/incremental/2021041702/1618626660.algo-1.json\n",
      "delete: s3://freirebros-deepracer/deepracer-notebook-2021-04-17-02-26-35-637/profiler-output/system/incremental/2021041702/1618626840.algo-1.json\n",
      "delete: s3://freirebros-deepracer/deepracer-notebook-2021-04-17-02-26-35-637/profiler-output/system/incremental/2021041702/1618626960.algo-1.json\n",
      "delete: s3://freirebros-deepracer/deepracer-notebook-2021-04-17-02-26-35-637/profiler-output/system/incremental/2021041702/1618627260.algo-1.json\n",
      "delete: s3://freirebros-deepracer/deepracer-notebook-2021-04-17-02-26-35-637/profiler-output/system/incremental/2021041702/1618626780.algo-1.json\n",
      "delete: s3://freirebros-deepracer/deepracer-notebook-2021-04-17-02-26-35-637/profiler-output/system/incremental/2021041702/1618627620.algo-1.json\n",
      "delete: s3://freirebros-deepracer/deepracer-notebook-2021-04-17-02-26-35-637/profiler-output/system/incremental/2021041702/1618627560.algo-1.json\n",
      "delete: s3://freirebros-deepracer/deepracer-notebook-2021-04-17-02-26-35-637/profiler-output/system/incremental/2021041702/1618627440.algo-1.json\n",
      "delete: s3://freirebros-deepracer/deepracer-notebook-2021-04-17-02-26-35-637/profiler-output/system/incremental/2021041702/1618627500.algo-1.json\n",
      "delete: s3://freirebros-deepracer/deepracer-notebook-2021-04-17-02-26-35-637/profiler-output/system/incremental/2021041702/1618627020.algo-1.json\n",
      "delete: s3://freirebros-deepracer/deepracer-notebook-2021-04-17-02-26-35-637/profiler-output/system/incremental/2021041702/1618627800.algo-1.json\n",
      "delete: s3://freirebros-deepracer/deepracer-notebook-2021-04-17-02-26-35-637/profiler-output/system/incremental/2021041702/1618627080.algo-1.json\n",
      "delete: s3://freirebros-deepracer/deepracer-notebook-2021-04-17-02-26-35-637/profiler-output/system/incremental/2021041702/1618627740.algo-1.json\n",
      "delete: s3://freirebros-deepracer/deepracer-notebook-2021-04-17-02-26-35-637/profiler-output/system/incremental/2021041702/1618626900.algo-1.json\n",
      "delete: s3://freirebros-deepracer/deepracer-notebook-2021-04-17-02-26-35-637/profiler-output/system/incremental/2021041702/1618627380.algo-1.json\n",
      "delete: s3://freirebros-deepracer/deepracer-notebook-2021-04-17-02-26-35-637/profiler-output/system/incremental/2021041702/1618628040.algo-1.json\n",
      "delete: s3://freirebros-deepracer/deepracer-notebook-2021-04-17-02-26-35-637/profiler-output/system/incremental/2021041702/1618627920.algo-1.json\n",
      "delete: s3://freirebros-deepracer/deepracer-notebook-2021-04-17-02-26-35-637/profiler-output/system/incremental/2021041702/1618627680.algo-1.json\n",
      "delete: s3://freirebros-deepracer/deepracer-notebook-2021-04-17-02-26-35-637/profiler-output/system/incremental/2021041702/1618627320.algo-1.json\n",
      "delete: s3://freirebros-deepracer/deepracer-notebook-2021-04-17-02-26-35-637/profiler-output/system/incremental/2021041702/1618628100.algo-1.json\n",
      "delete: s3://freirebros-deepracer/deepracer-notebook-2021-04-17-02-26-35-637/profiler-output/system/incremental/2021041702/1618627980.algo-1.json\n",
      "delete: s3://freirebros-deepracer/deepracer-notebook-2021-04-17-02-26-35-637/profiler-output/system/incremental/2021041702/1618627860.algo-1.json\n",
      "delete: s3://freirebros-deepracer/deepracer-notebook-2021-04-17-02-26-35-637/profiler-output/system/incremental/2021041702/1618628160.algo-1.json\n",
      "delete: s3://freirebros-deepracer/deepracer-notebook-2021-04-17-02-26-35-637/profiler-output/system/incremental/2021041702/1618628220.algo-1.json\n",
      "delete: s3://freirebros-deepracer/deepracer-notebook-2021-04-17-02-26-35-637/profiler-output/system/incremental/2021041702/1618628340.algo-1.json\n",
      "delete: s3://freirebros-deepracer/deepracer-notebook-2021-04-17-02-26-35-637/profiler-output/system/incremental/2021041703/1618628640.algo-1.json\n",
      "delete: s3://freirebros-deepracer/deepracer-notebook-2021-04-17-02-26-35-637/profiler-output/system/incremental/2021041702/1618628280.algo-1.json\n",
      "delete: s3://freirebros-deepracer/deepracer-notebook-2021-04-17-02-26-35-637/profiler-output/system/incremental/2021041703/1618628820.algo-1.json\n",
      "delete: s3://freirebros-deepracer/deepracer-notebook-2021-04-17-02-26-35-637/profiler-output/system/incremental/2021041703/1618628760.algo-1.json\n",
      "delete: s3://freirebros-deepracer/deepracer-notebook-2021-04-17-02-26-35-637/profiler-output/system/incremental/2021041703/1618628460.algo-1.json\n",
      "delete: s3://freirebros-deepracer/deepracer-notebook-2021-04-17-02-26-35-637/profiler-output/system/incremental/2021041703/1618628700.algo-1.json\n",
      "delete: s3://freirebros-deepracer/deepracer-notebook-2021-04-17-02-26-35-637/profiler-output/system/incremental/2021041703/1618628580.algo-1.json\n",
      "delete: s3://freirebros-deepracer/deepracer-notebook-2021-04-17-02-26-35-637/profiler-output/system/incremental/2021041703/1618629000.algo-1.json\n",
      "delete: s3://freirebros-deepracer/deepracer-notebook-2021-04-17-02-26-35-637/profiler-output/system/incremental/2021041703/1618628400.algo-1.json\n",
      "delete: s3://freirebros-deepracer/deepracer-notebook-2021-04-17-02-26-35-637/profiler-output/system/incremental/2021041703/1618629060.algo-1.json\n",
      "delete: s3://freirebros-deepracer/deepracer-notebook-2021-04-17-02-26-35-637/profiler-output/system/incremental/2021041703/1618629300.algo-1.json\n",
      "delete: s3://freirebros-deepracer/deepracer-notebook-2021-04-17-02-26-35-637/profiler-output/system/incremental/2021041703/1618629240.algo-1.json\n",
      "delete: s3://freirebros-deepracer/deepracer-notebook-2021-04-17-02-26-35-637/profiler-output/system/incremental/2021041703/1618628940.algo-1.json\n",
      "delete: s3://freirebros-deepracer/deepracer-notebook-2021-04-17-02-26-35-637/profiler-output/system/incremental/2021041703/1618628880.algo-1.json\n",
      "delete: s3://freirebros-deepracer/deepracer-notebook-2021-04-17-02-26-35-637/profiler-output/system/incremental/2021041703/1618629360.algo-1.json\n",
      "delete: s3://freirebros-deepracer/deepracer-notebook-2021-04-17-02-26-35-637/profiler-output/system/incremental/2021041703/1618629180.algo-1.json\n",
      "delete: s3://freirebros-deepracer/deepracer-notebook-2021-04-17-02-26-35-637/profiler-output/system/incremental/2021041703/1618629600.algo-1.json\n"
     ]
    },
    {
     "name": "stdout",
     "output_type": "stream",
     "text": [
      "delete: s3://freirebros-deepracer/deepracer-notebook-2021-04-17-02-26-35-637/profiler-output/system/incremental/2021041703/1618629540.algo-1.json\n",
      "delete: s3://freirebros-deepracer/deepracer-notebook-2021-04-17-02-26-35-637/profiler-output/system/incremental/2021041703/1618629660.algo-1.json\n",
      "delete: s3://freirebros-deepracer/deepracer-notebook-2021-04-17-02-26-35-637/profiler-output/system/incremental/2021041703/1618629720.algo-1.json\n",
      "delete: s3://freirebros-deepracer/deepracer-notebook-2021-04-17-02-26-35-637/profiler-output/system/incremental/2021041703/1618629480.algo-1.json\n",
      "delete: s3://freirebros-deepracer/deepracer-notebook-2021-04-17-02-26-35-637/profiler-output/system/incremental/2021041703/1618628520.algo-1.json\n",
      "delete: s3://freirebros-deepracer/deepracer-notebook-2021-04-17-02-26-35-637/profiler-output/system/incremental/2021041703/1618629120.algo-1.json\n",
      "delete: s3://freirebros-deepracer/deepracer-notebook-2021-04-17-02-26-35-637/profiler-output/system/incremental/2021041703/1618629960.algo-1.json\n",
      "delete: s3://freirebros-deepracer/deepracer-notebook-2021-04-17-02-26-35-637/profiler-output/system/incremental/2021041703/1618629780.algo-1.json\n",
      "delete: s3://freirebros-deepracer/deepracer-notebook-2021-04-17-02-26-35-637/profiler-output/system/incremental/2021041703/1618629840.algo-1.json\n",
      "delete: s3://freirebros-deepracer/deepracer-notebook-2021-04-17-02-26-35-637/profiler-output/system/incremental/2021041703/1618630020.algo-1.json\n",
      "delete: s3://freirebros-deepracer/deepracer-notebook-2021-04-17-02-26-35-637/profiler-output/system/incremental/2021041703/1618629900.algo-1.json\n",
      "delete: s3://freirebros-deepracer/deepracer-notebook-2021-04-17-02-26-35-637/profiler-output/system/incremental/2021041703/1618629420.algo-1.json\n",
      "delete: s3://freirebros-deepracer/deepracer-notebook-2021-04-17-02-26-35-637/profiler-output/system/incremental/2021041703/1618630080.algo-1.json\n",
      "delete: s3://freirebros-deepracer/deepracer-notebook-2021-04-17-02-26-35-637/profiler-output/system/incremental/2021041703/1618630140.algo-1.json\n",
      "delete: s3://freirebros-deepracer/deepracer-notebook-2021-04-17-02-26-35-637/profiler-output/system/incremental/2021041703/1618630200.algo-1.json\n",
      "delete: s3://freirebros-deepracer/deepracer-notebook-2021-04-17-02-26-35-637/profiler-output/system/incremental/2021041703/1618630620.algo-1.json\n",
      "delete: s3://freirebros-deepracer/deepracer-notebook-2021-04-17-02-26-35-637/profiler-output/system/incremental/2021041703/1618630260.algo-1.json\n",
      "delete: s3://freirebros-deepracer/deepracer-notebook-2021-04-17-02-26-35-637/profiler-output/system/incremental/2021041703/1618630320.algo-1.json\n",
      "delete: s3://freirebros-deepracer/deepracer-notebook-2021-04-17-02-26-35-637/profiler-output/system/incremental/2021041703/1618630440.algo-1.json\n",
      "delete: s3://freirebros-deepracer/deepracer-notebook-2021-04-17-02-26-35-637/profiler-output/system/incremental/2021041703/1618630500.algo-1.json\n",
      "delete: s3://freirebros-deepracer/deepracer-notebook-2021-04-17-02-26-35-637/profiler-output/system/incremental/2021041703/1618630560.algo-1.json\n",
      "delete: s3://freirebros-deepracer/deepracer-notebook-2021-04-17-02-26-35-637/profiler-output/system/incremental/2021041703/1618630380.algo-1.json\n",
      "delete: s3://freirebros-deepracer/deepracer-notebook-2021-04-17-02-26-35-637/profiler-output/system/incremental/2021041703/1618630680.algo-1.json\n",
      "delete: s3://freirebros-deepracer/deepracer-notebook-2021-04-17-02-26-35-637/profiler-output/system/incremental/2021041703/1618630800.algo-1.json\n",
      "delete: s3://freirebros-deepracer/deepracer-notebook-2021-04-17-02-26-35-637/profiler-output/system/incremental/2021041703/1618630740.algo-1.json\n",
      "delete: s3://freirebros-deepracer/deepracer-notebook-2021-04-17-02-26-35-637/profiler-output/system/incremental/2021041703/1618630860.algo-1.json\n",
      "delete: s3://freirebros-deepracer/deepracer-notebook-2021-04-17-02-26-35-637/profiler-output/system/incremental/2021041703/1618630920.algo-1.json\n",
      "delete: s3://freirebros-deepracer/deepracer-notebook-2021-04-17-02-26-35-637/profiler-output/system/incremental/2021041703/1618630980.algo-1.json\n",
      "delete: s3://freirebros-deepracer/deepracer-notebook-2021-04-17-02-26-35-637/profiler-output/system/incremental/2021041703/1618631040.algo-1.json\n",
      "delete: s3://freirebros-deepracer/deepracer-notebook-2021-04-17-02-26-35-637/profiler-output/system/incremental/2021041703/1618631160.algo-1.json\n",
      "delete: s3://freirebros-deepracer/deepracer-notebook-2021-04-17-02-26-35-637/profiler-output/system/incremental/2021041703/1618631100.algo-1.json\n",
      "delete: s3://freirebros-deepracer/deepracer-notebook-2021-04-17-02-26-35-637/profiler-output/system/incremental/2021041703/1618631340.algo-1.json\n",
      "delete: s3://freirebros-deepracer/deepracer-notebook-2021-04-17-02-26-35-637/profiler-output/system/incremental/2021041703/1618631280.algo-1.json\n",
      "delete: s3://freirebros-deepracer/deepracer-notebook-2021-04-17-02-26-35-637/profiler-output/system/incremental/2021041703/1618631220.algo-1.json\n",
      "delete: s3://freirebros-deepracer/deepracer-notebook-2021-04-17-02-26-35-637/profiler-output/system/incremental/2021041703/1618631400.algo-1.json\n",
      "delete: s3://freirebros-deepracer/deepracer-notebook-2021-04-17-02-26-35-637/profiler-output/system/incremental/2021041703/1618631520.algo-1.json\n",
      "delete: s3://freirebros-deepracer/deepracer-notebook-2021-04-17-02-26-35-637/profiler-output/system/incremental/2021041703/1618631460.algo-1.json\n",
      "delete: s3://freirebros-deepracer/deepracer-notebook-2021-04-17-02-26-35-637/profiler-output/system/incremental/2021041703/1618631760.algo-1.json\n",
      "delete: s3://freirebros-deepracer/deepracer-notebook-2021-04-17-02-26-35-637/profiler-output/system/incremental/2021041703/1618631640.algo-1.json\n",
      "delete: s3://freirebros-deepracer/deepracer-notebook-2021-04-17-02-26-35-637/profiler-output/system/incremental/2021041703/1618631700.algo-1.json\n",
      "delete: s3://freirebros-deepracer/deepracer-notebook-2021-04-17-02-26-35-637/profiler-output/system/incremental/2021041703/1618631820.algo-1.json\n",
      "delete: s3://freirebros-deepracer/deepracer-notebook-2021-04-17-02-26-35-637/profiler-output/system/incremental/2021041703/1618631940.algo-1.json\n",
      "delete: s3://freirebros-deepracer/deepracer-notebook-2021-04-17-02-26-35-637/profiler-output/system/incremental/2021041703/1618631880.algo-1.json\n",
      "delete: s3://freirebros-deepracer/deepracer-notebook-2021-04-17-02-26-35-637/profiler-output/system/incremental/2021041704/1618632000.algo-1.json\n",
      "delete: s3://freirebros-deepracer/deepracer-notebook-2021-04-17-02-26-35-637/profiler-output/system/incremental/2021041704/1618632060.algo-1.json\n",
      "delete: s3://freirebros-deepracer/deepracer-notebook-2021-04-17-02-26-35-637/profiler-output/system/incremental/2021041704/1618632180.algo-1.json\n",
      "delete: s3://freirebros-deepracer/deepracer-notebook-2021-04-17-02-26-35-637/profiler-output/system/incremental/2021041704/1618632300.algo-1.json\n",
      "delete: s3://freirebros-deepracer/deepracer-notebook-2021-04-17-02-26-35-637/profiler-output/system/incremental/2021041704/1618632120.algo-1.json\n",
      "delete: s3://freirebros-deepracer/deepracer-notebook-2021-04-17-02-26-35-637/profiler-output/system/incremental/2021041704/1618632360.algo-1.json\n",
      "delete: s3://freirebros-deepracer/deepracer-notebook-2021-04-17-02-26-35-637/profiler-output/system/incremental/2021041704/1618632420.algo-1.json\n",
      "delete: s3://freirebros-deepracer/deepracer-notebook-2021-04-17-02-26-35-637/profiler-output/system/incremental/2021041704/1618632480.algo-1.json\n",
      "delete: s3://freirebros-deepracer/deepracer-notebook-2021-04-17-02-26-35-637/profiler-output/system/incremental/2021041704/1618632540.algo-1.json\n",
      "delete: s3://freirebros-deepracer/deepracer-notebook-2021-04-17-02-26-35-637/profiler-output/system/incremental/2021041704/1618632240.algo-1.json\n",
      "delete: s3://freirebros-deepracer/deepracer-notebook-2021-04-17-02-26-35-637/profiler-output/system/incremental/2021041704/1618632600.algo-1.json\n",
      "delete: s3://freirebros-deepracer/deepracer-notebook-2021-04-17-02-26-35-637/profiler-output/system/incremental/2021041704/1618632660.algo-1.json\n",
      "delete: s3://freirebros-deepracer/deepracer-notebook-2021-04-17-02-26-35-637/profiler-output/system/incremental/2021041704/1618632840.algo-1.json\n",
      "delete: s3://freirebros-deepracer/deepracer-notebook-2021-04-17-02-26-35-637/profiler-output/system/incremental/2021041704/1618632780.algo-1.json\n",
      "delete: s3://freirebros-deepracer/deepracer-notebook-2021-04-17-02-26-35-637/profiler-output/system/incremental/2021041704/1618632720.algo-1.json\n",
      "delete: s3://freirebros-deepracer/deepracer-notebook-2021-04-17-02-26-35-637/profiler-output/system/incremental/2021041704/1618632900.algo-1.json\n",
      "delete: s3://freirebros-deepracer/deepracer-notebook-2021-04-17-02-26-35-637/profiler-output/system/incremental/2021041704/1618633020.algo-1.json\n",
      "delete: s3://freirebros-deepracer/deepracer-notebook-2021-04-17-02-26-35-637/profiler-output/system/incremental/2021041704/1618632960.algo-1.json\n",
      "delete: s3://freirebros-deepracer/deepracer-notebook-2021-04-17-02-26-35-637/profiler-output/system/incremental/2021041703/1618631580.algo-1.json\n",
      "delete: s3://freirebros-deepracer/deepracer-notebook-2021-04-17-02-26-35-637/profiler-output/system/incremental/2021041704/1618633200.algo-1.json\n",
      "delete: s3://freirebros-deepracer/deepracer-notebook-2021-04-17-02-26-35-637/profiler-output/system/incremental/2021041704/1618633080.algo-1.json\n",
      "delete: s3://freirebros-deepracer/deepracer-notebook-2021-04-17-02-26-35-637/profiler-output/system/incremental/2021041704/1618633140.algo-1.json\n",
      "delete: s3://freirebros-deepracer/deepracer-notebook-2021-04-17-02-26-35-637/profiler-output/system/incremental/2021041704/1618633320.algo-1.json\n",
      "delete: s3://freirebros-deepracer/deepracer-notebook-2021-04-17-02-26-35-637/profiler-output/system/incremental/2021041704/1618633260.algo-1.json\n",
      "delete: s3://freirebros-deepracer/deepracer-notebook-2021-04-17-02-26-35-637/profiler-output/system/incremental/2021041704/1618633440.algo-1.json\n"
     ]
    },
    {
     "name": "stdout",
     "output_type": "stream",
     "text": [
      "delete: s3://freirebros-deepracer/deepracer-notebook-2021-04-17-02-26-35-637/profiler-output/system/incremental/2021041704/1618633380.algo-1.json\n",
      "delete: s3://freirebros-deepracer/deepracer-notebook-2021-04-17-02-26-35-637/profiler-output/system/incremental/2021041704/1618633620.algo-1.json\n",
      "delete: s3://freirebros-deepracer/deepracer-notebook-2021-04-17-02-26-35-637/profiler-output/system/incremental/2021041704/1618633500.algo-1.json\n",
      "delete: s3://freirebros-deepracer/deepracer-notebook-2021-04-17-02-26-35-637/profiler-output/system/incremental/2021041704/1618633560.algo-1.json\n",
      "delete: s3://freirebros-deepracer/deepracer-notebook-2021-04-17-02-26-35-637/profiler-output/system/incremental/2021041704/1618633740.algo-1.json\n",
      "delete: s3://freirebros-deepracer/deepracer-notebook-2021-04-17-02-26-35-637/rule-output/ProfilerReport-1618626395/profiler-output/profiler-report.ipynb\n",
      "delete: s3://freirebros-deepracer/deepracer-notebook-2021-04-17-02-26-35-637/rule-output/ProfilerReport-1618626395/profiler-output/profiler-report.html\n",
      "delete: s3://freirebros-deepracer/deepracer-notebook-2021-04-17-02-26-35-637/rule-output/ProfilerReport-1618626395/profiler-output/profiler-reports/BatchSize.json\n",
      "delete: s3://freirebros-deepracer/deepracer-notebook-2021-04-17-02-26-35-637/rule-output/ProfilerReport-1618626395/profiler-output/profiler-reports/IOBottleneck.json\n",
      "delete: s3://freirebros-deepracer/deepracer-notebook-2021-04-17-02-26-35-637/rule-output/ProfilerReport-1618626395/profiler-output/profiler-reports/CPUBottleneck.json\n",
      "delete: s3://freirebros-deepracer/deepracer-notebook-2021-04-17-02-26-35-637/rule-output/ProfilerReport-1618626395/profiler-output/profiler-reports/GPUMemoryIncrease.json\n",
      "delete: s3://freirebros-deepracer/deepracer-notebook-2021-04-17-02-26-35-637/rule-output/ProfilerReport-1618626395/profiler-output/profiler-reports/LowGPUUtilization.json\n",
      "delete: s3://freirebros-deepracer/deepracer-notebook-2021-04-17-02-26-35-637/rule-output/ProfilerReport-1618626395/profiler-output/profiler-reports/MaxInitializationTime.json\n",
      "delete: s3://freirebros-deepracer/deepracer-notebook-2021-04-17-02-26-35-637/rule-output/ProfilerReport-1618626395/profiler-output/profiler-reports/Dataloader.json\n",
      "delete: s3://freirebros-deepracer/deepracer-notebook-2021-04-17-02-26-35-637/rule-output/ProfilerReport-1618626395/profiler-output/profiler-reports/LoadBalancing.json\n",
      "delete: s3://freirebros-deepracer/deepracer-notebook-2021-04-17-02-26-35-637/rule-output/ProfilerReport-1618626395/profiler-output/profiler-reports/OverallFrameworkMetrics.json\n",
      "delete: s3://freirebros-deepracer/deepracer-notebook-2021-04-17-02-26-35-637/rule-output/ProfilerReport-1618626395/profiler-output/profiler-reports/OverallSystemUsage.json\n",
      "delete: s3://freirebros-deepracer/deepracer-notebook-2021-04-17-02-26-35-637/rule-output/ProfilerReport-1618626395/profiler-output/profiler-reports/StepOutlier.json\n",
      "delete: s3://freirebros-deepracer/deepracer-notebook-2021-04-17-02-26-35-637/source/sourcedir.tar.gz\n",
      "delete: s3://freirebros-deepracer/deepracer-notebook-2021-04-17-02-26-35-637/profiler-output/system/incremental/2021041704/1618633680.algo-1.json\n",
      "delete: s3://freirebros-deepracer/robomaker/simulation_ws.tar.gz\n"
     ]
    }
   ],
   "source": [
    "# # Uncomment if you only want to clean the s3 bucket\n",
    "# sagemaker_s3_folder = \"s3://{}/{}\".format(s3_bucket, s3_prefix)\n",
    "# !aws s3 rm --recursive {sagemaker_s3_folder}\n",
    "\n",
    "# robomaker_s3_folder = \"s3://{}/{}\".format(s3_bucket, job_name)\n",
    "# !aws s3 rm --recursive {robomaker_s3_folder}\n",
    "\n",
    "# robomaker_sim_app = \"s3://{}/{}\".format(s3_bucket, 'robomaker')\n",
    "# !aws s3 rm --recursive {robomaker_sim_app}\n",
    "\n",
    "# model_output = \"s3://{}/{}\".format(s3_bucket, s3_bucket)\n",
    "# !aws s3 rm --recursive {model_output}"
   ]
  },
  {
   "cell_type": "code",
   "execution_count": null,
   "metadata": {},
   "outputs": [],
   "source": []
  },
  {
   "cell_type": "markdown",
   "metadata": {},
   "source": [
    "## DO NOT RUN - Get latest markov package from the bundle to run on SageMaker instance\n",
    "This is no longer needed because we already implemented this step and have made modification\n",
    "Should Delete this...."
   ]
  },
  {
   "cell_type": "code",
   "execution_count": null,
   "metadata": {},
   "outputs": [],
   "source": [
    "# #\n",
    "# # Run these commands only for the first time\n",
    "# #\n",
    "# # Clean the build directory if present\n",
    "# !python3 sim_app_bundler.py --clean\n",
    "\n",
    "# # Download Robomaker simApp from the deepracer public s3 bucket\n",
    "# simulation_application_bundle_location = \"s3://deepracer-managed-resources-us-east-1/deepracer-simapp.tar.gz\"\n",
    "# !aws s3 cp {simulation_application_bundle_location} ./deepracer-simapp.tar.gz\n",
    "\n",
    "# # Untar the simapp bundle\n",
    "# !python3 sim_app_bundler.py --untar ./deepracer-simapp.tar.gz\n",
    "\n",
    "# !rm -rf ./src/markov\n",
    "# !cp -r build/simapp/bundle/opt/install/sagemaker_rl_agent/lib/python3.5/site-packages/markov ./src/\n",
    "\n",
    "# # Remove build & deepracer-simapp.tar.gz\n",
    "# !rm -rf build\n",
    "# !rm -rf deepracer-simapp.tar.gz"
   ]
  }
 ],
 "metadata": {
  "anaconda-cloud": {},
  "kernelspec": {
   "display_name": "conda_amazonei_tensorflow_p36",
   "language": "python",
   "name": "conda_amazonei_tensorflow_p36"
  },
  "language_info": {
   "codemirror_mode": {
    "name": "ipython",
    "version": 3
   },
   "file_extension": ".py",
   "mimetype": "text/x-python",
   "name": "python",
   "nbconvert_exporter": "python",
   "pygments_lexer": "ipython3",
   "version": "3.6.10"
  }
 },
 "nbformat": 4,
 "nbformat_minor": 4
}
